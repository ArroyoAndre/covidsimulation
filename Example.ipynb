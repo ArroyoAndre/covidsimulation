{
 "cells": [
  {
   "cell_type": "code",
   "execution_count": 5,
   "metadata": {},
   "outputs": [
    {
     "name": "stdout",
     "output_type": "stream",
     "text": [
      "Ignoring dataclasses: markers 'python_version < \"3.7\"' don't match your environment\n",
      "Requirement already satisfied: smart_open in /Users/andre/code/covid/venv/lib/python3.7/site-packages (from -r requirements.txt (line 1)) (1.10.0)\n",
      "Requirement already satisfied: matplotlib in /Users/andre/code/covid/venv/lib/python3.7/site-packages (from -r requirements.txt (line 2)) (3.2.1)\n",
      "Requirement already satisfied: plotly in /Users/andre/code/covid/venv/lib/python3.7/site-packages (from -r requirements.txt (line 3)) (4.6.0)\n",
      "Requirement already satisfied: numpy in /Users/andre/code/covid/venv/lib/python3.7/site-packages (from -r requirements.txt (line 4)) (1.18.2)\n",
      "Requirement already satisfied: pandas in /Users/andre/code/covid/venv/lib/python3.7/site-packages (from -r requirements.txt (line 5)) (1.0.3)\n",
      "Requirement already satisfied: simpy in /Users/andre/code/covid/venv/lib/python3.7/site-packages (from -r requirements.txt (line 6)) (3.0.12)\n",
      "Requirement already satisfied: Cython==0.29.16 in /Users/andre/code/covid/venv/lib/python3.7/site-packages (from -r requirements.txt (line 7)) (0.29.16)\n",
      "Requirement already satisfied: tqdm in /Users/andre/code/covid/venv/lib/python3.7/site-packages (from -r requirements.txt (line 9)) (4.45.0)\n",
      "Requirement already satisfied: pytest in /Users/andre/code/covid/venv/lib/python3.7/site-packages (from -r requirements.txt (line 10)) (5.4.1)\n",
      "Requirement already satisfied: requests in /Users/andre/code/covid/venv/lib/python3.7/site-packages (from smart_open->-r requirements.txt (line 1)) (2.23.0)\n",
      "Requirement already satisfied: boto3 in /Users/andre/code/covid/venv/lib/python3.7/site-packages (from smart_open->-r requirements.txt (line 1)) (1.12.36)\n",
      "Requirement already satisfied: google-cloud-storage in /Users/andre/code/covid/venv/lib/python3.7/site-packages (from smart_open->-r requirements.txt (line 1)) (1.27.0)\n",
      "Requirement already satisfied: pyparsing!=2.0.4,!=2.1.2,!=2.1.6,>=2.0.1 in /Users/andre/code/covid/venv/lib/python3.7/site-packages (from matplotlib->-r requirements.txt (line 2)) (2.4.6)\n",
      "Requirement already satisfied: cycler>=0.10 in /Users/andre/code/covid/venv/lib/python3.7/site-packages (from matplotlib->-r requirements.txt (line 2)) (0.10.0)\n",
      "Requirement already satisfied: kiwisolver>=1.0.1 in /Users/andre/code/covid/venv/lib/python3.7/site-packages (from matplotlib->-r requirements.txt (line 2)) (1.2.0)\n",
      "Requirement already satisfied: python-dateutil>=2.1 in /Users/andre/code/covid/venv/lib/python3.7/site-packages (from matplotlib->-r requirements.txt (line 2)) (2.8.1)\n",
      "Requirement already satisfied: six in /Users/andre/code/covid/venv/lib/python3.7/site-packages (from plotly->-r requirements.txt (line 3)) (1.14.0)\n",
      "Requirement already satisfied: retrying>=1.3.3 in /Users/andre/code/covid/venv/lib/python3.7/site-packages (from plotly->-r requirements.txt (line 3)) (1.3.3)\n",
      "Requirement already satisfied: pytz>=2017.2 in /Users/andre/code/covid/venv/lib/python3.7/site-packages (from pandas->-r requirements.txt (line 5)) (2019.3)\n",
      "Requirement already satisfied: pluggy<1.0,>=0.12 in /Users/andre/code/covid/venv/lib/python3.7/site-packages (from pytest->-r requirements.txt (line 10)) (0.13.1)\n",
      "Requirement already satisfied: importlib-metadata>=0.12; python_version < \"3.8\" in /Users/andre/code/covid/venv/lib/python3.7/site-packages (from pytest->-r requirements.txt (line 10)) (1.6.0)\n",
      "Requirement already satisfied: wcwidth in /Users/andre/code/covid/venv/lib/python3.7/site-packages (from pytest->-r requirements.txt (line 10)) (0.1.9)\n",
      "Requirement already satisfied: attrs>=17.4.0 in /Users/andre/code/covid/venv/lib/python3.7/site-packages (from pytest->-r requirements.txt (line 10)) (19.3.0)\n",
      "Requirement already satisfied: py>=1.5.0 in /Users/andre/code/covid/venv/lib/python3.7/site-packages (from pytest->-r requirements.txt (line 10)) (1.8.1)\n",
      "Requirement already satisfied: more-itertools>=4.0.0 in /Users/andre/code/covid/venv/lib/python3.7/site-packages (from pytest->-r requirements.txt (line 10)) (8.2.0)\n",
      "Requirement already satisfied: packaging in /Users/andre/code/covid/venv/lib/python3.7/site-packages (from pytest->-r requirements.txt (line 10)) (20.3)\n",
      "Requirement already satisfied: chardet<4,>=3.0.2 in /Users/andre/code/covid/venv/lib/python3.7/site-packages (from requests->smart_open->-r requirements.txt (line 1)) (3.0.4)\n",
      "Requirement already satisfied: idna<3,>=2.5 in /Users/andre/code/covid/venv/lib/python3.7/site-packages (from requests->smart_open->-r requirements.txt (line 1)) (2.9)\n",
      "Requirement already satisfied: certifi>=2017.4.17 in /Users/andre/code/covid/venv/lib/python3.7/site-packages (from requests->smart_open->-r requirements.txt (line 1)) (2020.4.5)\n",
      "Requirement already satisfied: urllib3!=1.25.0,!=1.25.1,<1.26,>=1.21.1 in /Users/andre/code/covid/venv/lib/python3.7/site-packages (from requests->smart_open->-r requirements.txt (line 1)) (1.25.8)\n",
      "Requirement already satisfied: s3transfer<0.4.0,>=0.3.0 in /Users/andre/code/covid/venv/lib/python3.7/site-packages (from boto3->smart_open->-r requirements.txt (line 1)) (0.3.3)\n",
      "Requirement already satisfied: botocore<1.16.0,>=1.15.36 in /Users/andre/code/covid/venv/lib/python3.7/site-packages (from boto3->smart_open->-r requirements.txt (line 1)) (1.15.36)\n",
      "Requirement already satisfied: jmespath<1.0.0,>=0.7.1 in /Users/andre/code/covid/venv/lib/python3.7/site-packages (from boto3->smart_open->-r requirements.txt (line 1)) (0.9.5)\n",
      "Requirement already satisfied: google-auth<2.0dev,>=1.11.0 in /Users/andre/code/covid/venv/lib/python3.7/site-packages (from google-cloud-storage->smart_open->-r requirements.txt (line 1)) (1.13.1)\n",
      "Requirement already satisfied: google-resumable-media<0.6dev,>=0.5.0 in /Users/andre/code/covid/venv/lib/python3.7/site-packages (from google-cloud-storage->smart_open->-r requirements.txt (line 1)) (0.5.0)\n",
      "Requirement already satisfied: google-cloud-core<2.0dev,>=1.2.0 in /Users/andre/code/covid/venv/lib/python3.7/site-packages (from google-cloud-storage->smart_open->-r requirements.txt (line 1)) (1.3.0)\n",
      "Requirement already satisfied: zipp>=0.5 in /Users/andre/code/covid/venv/lib/python3.7/site-packages (from importlib-metadata>=0.12; python_version < \"3.8\"->pytest->-r requirements.txt (line 10)) (3.1.0)\n",
      "Requirement already satisfied: docutils<0.16,>=0.10 in /Users/andre/code/covid/venv/lib/python3.7/site-packages (from botocore<1.16.0,>=1.15.36->boto3->smart_open->-r requirements.txt (line 1)) (0.15.2)\n",
      "Requirement already satisfied: setuptools>=40.3.0 in /Users/andre/code/covid/venv/lib/python3.7/site-packages (from google-auth<2.0dev,>=1.11.0->google-cloud-storage->smart_open->-r requirements.txt (line 1)) (46.1.3)\n",
      "Requirement already satisfied: pyasn1-modules>=0.2.1 in /Users/andre/code/covid/venv/lib/python3.7/site-packages (from google-auth<2.0dev,>=1.11.0->google-cloud-storage->smart_open->-r requirements.txt (line 1)) (0.2.8)\n",
      "Requirement already satisfied: rsa<4.1,>=3.1.4 in /Users/andre/code/covid/venv/lib/python3.7/site-packages (from google-auth<2.0dev,>=1.11.0->google-cloud-storage->smart_open->-r requirements.txt (line 1)) (4.0)\n",
      "Requirement already satisfied: cachetools<5.0,>=2.0.0 in /Users/andre/code/covid/venv/lib/python3.7/site-packages (from google-auth<2.0dev,>=1.11.0->google-cloud-storage->smart_open->-r requirements.txt (line 1)) (4.0.0)\n",
      "Requirement already satisfied: google-api-core<2.0.0dev,>=1.16.0 in /Users/andre/code/covid/venv/lib/python3.7/site-packages (from google-cloud-core<2.0dev,>=1.2.0->google-cloud-storage->smart_open->-r requirements.txt (line 1)) (1.16.0)\n",
      "Requirement already satisfied: pyasn1<0.5.0,>=0.4.6 in /Users/andre/code/covid/venv/lib/python3.7/site-packages (from pyasn1-modules>=0.2.1->google-auth<2.0dev,>=1.11.0->google-cloud-storage->smart_open->-r requirements.txt (line 1)) (0.4.8)\n",
      "Requirement already satisfied: googleapis-common-protos<2.0dev,>=1.6.0 in /Users/andre/code/covid/venv/lib/python3.7/site-packages (from google-api-core<2.0.0dev,>=1.16.0->google-cloud-core<2.0dev,>=1.2.0->google-cloud-storage->smart_open->-r requirements.txt (line 1)) (1.51.0)\n",
      "Requirement already satisfied: protobuf>=3.4.0 in /Users/andre/code/covid/venv/lib/python3.7/site-packages (from google-api-core<2.0.0dev,>=1.16.0->google-cloud-core<2.0dev,>=1.2.0->google-cloud-storage->smart_open->-r requirements.txt (line 1)) (3.11.3)\n",
      "running build_ext\n",
      "copying build/lib.macosx-10.14-x86_64-3.7/covidsimulation/simulation.cpython-37m-darwin.so -> covidsimulation\n",
      "running install\n",
      "running bdist_egg\n",
      "running egg_info\n",
      "writing covidsimulation.egg-info/PKG-INFO\n",
      "writing dependency_links to covidsimulation.egg-info/dependency_links.txt\n",
      "writing top-level names to covidsimulation.egg-info/top_level.txt\n",
      "reading manifest file 'covidsimulation.egg-info/SOURCES.txt'\n",
      "writing manifest file 'covidsimulation.egg-info/SOURCES.txt'\n",
      "installing library code to build/bdist.macosx-10.14-x86_64/egg\n",
      "running install_lib\n",
      "running build_py\n",
      "copying covidsimulation/cache.py -> build/lib.macosx-10.14-x86_64-3.7/covidsimulation\n",
      "copying covidsimulation/simulation_engine.py -> build/lib.macosx-10.14-x86_64-3.7/covidsimulation\n",
      "running build_ext\n",
      "creating build/bdist.macosx-10.14-x86_64/egg\n",
      "creating build/bdist.macosx-10.14-x86_64/egg/covidsimulation\n",
      "copying build/lib.macosx-10.14-x86_64-3.7/covidsimulation/metrics.py -> build/bdist.macosx-10.14-x86_64/egg/covidsimulation\n",
      "copying build/lib.macosx-10.14-x86_64-3.7/covidsimulation/callibrate.py -> build/bdist.macosx-10.14-x86_64/egg/covidsimulation\n",
      "creating build/bdist.macosx-10.14-x86_64/egg/covidsimulation/regions\n",
      "copying build/lib.macosx-10.14-x86_64-3.7/covidsimulation/regions/br_saopaulo.py -> build/bdist.macosx-10.14-x86_64/egg/covidsimulation/regions\n",
      "copying build/lib.macosx-10.14-x86_64-3.7/covidsimulation/regions/__init__.py -> build/bdist.macosx-10.14-x86_64/egg/covidsimulation/regions\n",
      "copying build/lib.macosx-10.14-x86_64-3.7/covidsimulation/regions/br_riodejaneiro.py -> build/bdist.macosx-10.14-x86_64/egg/covidsimulation/regions\n",
      "copying build/lib.macosx-10.14-x86_64-3.7/covidsimulation/plot.py -> build/bdist.macosx-10.14-x86_64/egg/covidsimulation\n",
      "copying build/lib.macosx-10.14-x86_64-3.7/covidsimulation/age_group.py -> build/bdist.macosx-10.14-x86_64/egg/covidsimulation\n",
      "copying build/lib.macosx-10.14-x86_64-3.7/covidsimulation/population.py -> build/bdist.macosx-10.14-x86_64/egg/covidsimulation\n",
      "copying build/lib.macosx-10.14-x86_64-3.7/covidsimulation/cache.py -> build/bdist.macosx-10.14-x86_64/egg/covidsimulation\n",
      "copying build/lib.macosx-10.14-x86_64-3.7/covidsimulation/__init__.py -> build/bdist.macosx-10.14-x86_64/egg/covidsimulation\n",
      "copying build/lib.macosx-10.14-x86_64-3.7/covidsimulation/disease_parameters.py -> build/bdist.macosx-10.14-x86_64/egg/covidsimulation\n",
      "copying build/lib.macosx-10.14-x86_64-3.7/covidsimulation/simulation_engine.py -> build/bdist.macosx-10.14-x86_64/egg/covidsimulation\n",
      "copying build/lib.macosx-10.14-x86_64-3.7/covidsimulation/stats.py -> build/bdist.macosx-10.14-x86_64/egg/covidsimulation\n",
      "copying build/lib.macosx-10.14-x86_64-3.7/covidsimulation/simulation.cpython-37m-darwin.so -> build/bdist.macosx-10.14-x86_64/egg/covidsimulation\n",
      "copying build/lib.macosx-10.14-x86_64-3.7/covidsimulation/parameters.py -> build/bdist.macosx-10.14-x86_64/egg/covidsimulation\n",
      "copying build/lib.macosx-10.14-x86_64-3.7/covidsimulation/lab.py -> build/bdist.macosx-10.14-x86_64/egg/covidsimulation\n",
      "creating build/bdist.macosx-10.14-x86_64/egg/examples\n",
      "copying build/lib.macosx-10.14-x86_64-3.7/examples/__init__.py -> build/bdist.macosx-10.14-x86_64/egg/examples\n",
      "byte-compiling build/bdist.macosx-10.14-x86_64/egg/covidsimulation/metrics.py to metrics.cpython-37.pyc\n",
      "byte-compiling build/bdist.macosx-10.14-x86_64/egg/covidsimulation/callibrate.py to callibrate.cpython-37.pyc\n",
      "byte-compiling build/bdist.macosx-10.14-x86_64/egg/covidsimulation/regions/br_saopaulo.py to br_saopaulo.cpython-37.pyc\n",
      "byte-compiling build/bdist.macosx-10.14-x86_64/egg/covidsimulation/regions/__init__.py to __init__.cpython-37.pyc\n",
      "byte-compiling build/bdist.macosx-10.14-x86_64/egg/covidsimulation/regions/br_riodejaneiro.py to br_riodejaneiro.cpython-37.pyc\n",
      "byte-compiling build/bdist.macosx-10.14-x86_64/egg/covidsimulation/plot.py to plot.cpython-37.pyc\n",
      "byte-compiling build/bdist.macosx-10.14-x86_64/egg/covidsimulation/age_group.py to age_group.cpython-37.pyc\n",
      "byte-compiling build/bdist.macosx-10.14-x86_64/egg/covidsimulation/population.py to population.cpython-37.pyc\n",
      "byte-compiling build/bdist.macosx-10.14-x86_64/egg/covidsimulation/cache.py to cache.cpython-37.pyc\n",
      "byte-compiling build/bdist.macosx-10.14-x86_64/egg/covidsimulation/__init__.py to __init__.cpython-37.pyc\n",
      "byte-compiling build/bdist.macosx-10.14-x86_64/egg/covidsimulation/disease_parameters.py to disease_parameters.cpython-37.pyc\n",
      "byte-compiling build/bdist.macosx-10.14-x86_64/egg/covidsimulation/simulation_engine.py to simulation_engine.cpython-37.pyc\n",
      "byte-compiling build/bdist.macosx-10.14-x86_64/egg/covidsimulation/stats.py to stats.cpython-37.pyc\n",
      "byte-compiling build/bdist.macosx-10.14-x86_64/egg/covidsimulation/parameters.py to parameters.cpython-37.pyc\n",
      "byte-compiling build/bdist.macosx-10.14-x86_64/egg/covidsimulation/lab.py to lab.cpython-37.pyc\n",
      "byte-compiling build/bdist.macosx-10.14-x86_64/egg/examples/__init__.py to __init__.cpython-37.pyc\n",
      "creating stub loader for covidsimulation/simulation.cpython-37m-darwin.so\n",
      "byte-compiling build/bdist.macosx-10.14-x86_64/egg/covidsimulation/simulation.py to simulation.cpython-37.pyc\n",
      "creating build/bdist.macosx-10.14-x86_64/egg/EGG-INFO\n",
      "copying covidsimulation.egg-info/PKG-INFO -> build/bdist.macosx-10.14-x86_64/egg/EGG-INFO\n",
      "copying covidsimulation.egg-info/SOURCES.txt -> build/bdist.macosx-10.14-x86_64/egg/EGG-INFO\n",
      "copying covidsimulation.egg-info/dependency_links.txt -> build/bdist.macosx-10.14-x86_64/egg/EGG-INFO\n",
      "copying covidsimulation.egg-info/top_level.txt -> build/bdist.macosx-10.14-x86_64/egg/EGG-INFO\n",
      "writing build/bdist.macosx-10.14-x86_64/egg/EGG-INFO/native_libs.txt\n",
      "zip_safe flag not set; analyzing archive contents...\n",
      "covidsimulation.__pycache__.simulation.cpython-37: module references __file__\n",
      "creating 'dist/covidsimulation-0.0.1-py3.7-macosx-10.14-x86_64.egg' and adding 'build/bdist.macosx-10.14-x86_64/egg' to it\n",
      "removing 'build/bdist.macosx-10.14-x86_64/egg' (and everything under it)\n",
      "Processing covidsimulation-0.0.1-py3.7-macosx-10.14-x86_64.egg\n",
      "removing '/Users/andre/code/covid/venv/lib/python3.7/site-packages/covidsimulation-0.0.1-py3.7-macosx-10.14-x86_64.egg' (and everything under it)\n",
      "creating /Users/andre/code/covid/venv/lib/python3.7/site-packages/covidsimulation-0.0.1-py3.7-macosx-10.14-x86_64.egg\n",
      "Extracting covidsimulation-0.0.1-py3.7-macosx-10.14-x86_64.egg to /Users/andre/code/covid/venv/lib/python3.7/site-packages\n",
      "covidsimulation 0.0.1 is already the active version in easy-install.pth\n",
      "\n",
      "Installed /Users/andre/code/covid/venv/lib/python3.7/site-packages/covidsimulation-0.0.1-py3.7-macosx-10.14-x86_64.egg\n",
      "Processing dependencies for covidsimulation==0.0.1\n",
      "Finished processing dependencies for covidsimulation==0.0.1\n"
     ]
    }
   ],
   "source": [
    "! ./setup.sh"
   ]
  },
  {
   "cell_type": "code",
   "execution_count": 6,
   "metadata": {},
   "outputs": [],
   "source": [
    "%matplotlib inline"
   ]
  },
  {
   "cell_type": "code",
   "execution_count": 1,
   "metadata": {},
   "outputs": [],
   "source": [
    "from covidsimulation.regions.br_saopaulo import params as br_saopaulo_params\n",
    "from covidsimulation import run_simulations, plot, Stats\n",
    "from tqdm import tqdm\n",
    "from copy import deepcopy\n",
    "\n",
    "params = deepcopy(br_saopaulo_params)\n",
    "params.interventions = []\n",
    "\n",
    "stats = run_simulations(\n",
    "    sim_params=params, \n",
    "    simulate_capacity=False, \n",
    "    duration=21, \n",
    "    number_of_simulations=4, \n",
    "    simulation_size=20000, \n",
    "    fpath='saved/teste.pkl',\n",
    "    tqdm=None,\n",
    "    )"
   ]
  },
  {
   "cell_type": "code",
   "execution_count": 2,
   "metadata": {},
   "outputs": [
    {
     "data": {
      "application/vnd.jupyter.widget-view+json": {
       "model_id": "bc9d6cc1fa654aae80bedfe310f32629",
       "version_major": 2,
       "version_minor": 0
      },
      "text/plain": [
       "FigureWidget({\n",
       "    'data': [{'fill': 'toself',\n",
       "              'fillcolor': 'rgba(0,0,255,0.25)',\n",
       "              …"
      ]
     },
     "metadata": {},
     "output_type": "display_data"
    }
   ],
   "source": [
    "plot([\n",
    "        (stats.get_metric('infected'), 'Total'),\n",
    "        (stats.get_metric('infected', None, '30-39'), '30-39'),\n",
    "    ], 'Infected', False, stop=90)\n"
   ]
  },
  {
   "cell_type": "code",
   "execution_count": 3,
   "metadata": {},
   "outputs": [],
   "source": [
    "saved_stats = Stats.load('saved/teste')"
   ]
  },
  {
   "cell_type": "code",
   "execution_count": 8,
   "metadata": {},
   "outputs": [],
   "source": [
    "\n",
    "stats_isolation = run_simulations(\n",
    "    sim_params=br_saopaulo_params, \n",
    "    simulate_capacity=False, \n",
    "    duration=46, \n",
    "    number_of_simulations=2, \n",
    "    simulation_size=20000, \n",
    "    fpath='saved/isolated.pkl',\n",
    "    )"
   ]
  },
  {
   "cell_type": "code",
   "execution_count": 9,
   "metadata": {},
   "outputs": [
    {
     "data": {
      "application/vnd.jupyter.widget-view+json": {
       "model_id": "9d51067a029c407d9cf9c59931f9cb3b",
       "version_major": 2,
       "version_minor": 0
      },
      "text/plain": [
       "FigureWidget({\n",
       "    'data': [{'fill': 'toself',\n",
       "              'fillcolor': 'rgba(0,0,255,0.25)',\n",
       "              …"
      ]
     },
     "metadata": {},
     "output_type": "display_data"
    }
   ],
   "source": [
    "plot([\n",
    "        (saved_stats.get_metric('infected'), 'Nothing done'),\n",
    "        (stats_isolation.get_metric('infected'), 'Social distancing'),\n",
    "    ], 'Infected', True, stop=90)\n"
   ]
  },
  {
   "cell_type": "code",
   "execution_count": 10,
   "metadata": {},
   "outputs": [
    {
     "data": {
      "application/vnd.jupyter.widget-view+json": {
       "model_id": "6b5d71ec178d47c3b3bf7f98c6633e28",
       "version_major": 2,
       "version_minor": 0
      },
      "text/plain": [
       "FigureWidget({\n",
       "    'data': [{'fill': 'toself',\n",
       "              'fillcolor': 'rgba(0,0,255,0.25)',\n",
       "              …"
      ]
     },
     "metadata": {},
     "output_type": "display_data"
    }
   ],
   "source": [
    "plot([\n",
    "        (stats_isolation.get_metric('deaths'), 'Nothing done'),\n",
    "        (stats_isolation.get_metric('confirmed_deaths'), 'Social distancing'),\n",
    "    ], 'Infected', False, stop=90)\n"
   ]
  },
  {
   "cell_type": "code",
   "execution_count": 12,
   "metadata": {},
   "outputs": [
    {
     "data": {
      "text/plain": [
       "Parameters(population_segments=[Population(name='classe_abc+', age_probabilities=array([0.13 , 0.152, 0.184, 0.169, 0.14 , 0.107, 0.064, 0.036, 0.018]), age_groups=[AgeGroup(index=0, severity=[0.3, 0.017, 0.0012, 9e-05, 0.000122, 7.5e-05, 1.6e-05], isolation_adherence=0.4, isolation_effectiveness=0.95, diagnosis_delay=4.0), AgeGroup(index=1, severity=[0.4, 0.02, 0.003, 0.0004, 0.000365, 0.000245, 7e-05], isolation_adherence=0.0, isolation_effectiveness=0.95, diagnosis_delay=4.0), AgeGroup(index=2, severity=[0.5, 0.105, 0.034, 0.011, 0.002, 0.001, 0.00031], isolation_adherence=-0.6, isolation_effectiveness=0.95, diagnosis_delay=4.0), AgeGroup(index=3, severity=[0.55, 0.241, 0.091, 0.034, 0.005, 0.003, 0.00084], isolation_adherence=-0.5, isolation_effectiveness=0.95, diagnosis_delay=4.0), AgeGroup(index=4, severity=[0.59, 0.225, 0.098, 0.043, 0.007, 0.005, 0.0016], isolation_adherence=-0.2, isolation_effectiveness=0.95, diagnosis_delay=4.0), AgeGroup(index=5, severity=[0.62, 0.286, 0.153, 0.082, 0.02, 0.015, 0.006], isolation_adherence=0.3, isolation_effectiveness=0.95, diagnosis_delay=4.0), AgeGroup(index=6, severity=[0.65, 0.328, 0.197, 0.118, 0.047, 0.038, 0.019], isolation_adherence=0.8, isolation_effectiveness=0.95, diagnosis_delay=4.0), AgeGroup(index=7, severity=[0.68, 0.339, 0.237, 0.166, 0.084, 0.072, 0.043], isolation_adherence=1.8, isolation_effectiveness=0.95, diagnosis_delay=4.0), AgeGroup(index=8, severity=[0.763, 0.582, 0.327, 0.184, 0.161, 0.136, 0.078], isolation_adherence=1.8, isolation_effectiveness=0.95, diagnosis_delay=4.0)], home_size_probabilities=array([0.3 , 0.3 , 0.25, 0.15]), inhabitants=8333333.333333333, seed_infections=10, geosocial_displacement=0.0, isolation_propensity_increase=0.0), Population(name='classe_c-d', age_probabilities=array([0.13 , 0.152, 0.184, 0.169, 0.14 , 0.107, 0.064, 0.036, 0.018]), age_groups=[AgeGroup(index=0, severity=[0.3, 0.017, 0.0012, 9e-05, 0.000122, 7.5e-05, 1.6e-05], isolation_adherence=0.4, isolation_effectiveness=0.9, diagnosis_delay=18.0), AgeGroup(index=1, severity=[0.4, 0.02, 0.003, 0.0004, 0.000365, 0.000245, 7e-05], isolation_adherence=0.0, isolation_effectiveness=0.9, diagnosis_delay=18.0), AgeGroup(index=2, severity=[0.5, 0.105, 0.034, 0.011, 0.002, 0.001, 0.00031], isolation_adherence=-0.5, isolation_effectiveness=0.9, diagnosis_delay=18.0), AgeGroup(index=3, severity=[0.55, 0.241, 0.091, 0.034, 0.005, 0.003, 0.00084], isolation_adherence=-0.3, isolation_effectiveness=0.9, diagnosis_delay=18.0), AgeGroup(index=4, severity=[0.59, 0.225, 0.098, 0.043, 0.007, 0.005, 0.0016], isolation_adherence=0.2, isolation_effectiveness=0.9, diagnosis_delay=18.0), AgeGroup(index=5, severity=[0.62, 0.286, 0.153, 0.082, 0.02, 0.015, 0.006], isolation_adherence=0.7, isolation_effectiveness=0.9, diagnosis_delay=18.0), AgeGroup(index=6, severity=[0.65, 0.328, 0.197, 0.118, 0.047, 0.038, 0.019], isolation_adherence=0.5, isolation_effectiveness=0.9, diagnosis_delay=18.0), AgeGroup(index=7, severity=[0.68, 0.339, 0.237, 0.166, 0.084, 0.072, 0.043], isolation_adherence=1.8, isolation_effectiveness=0.9, diagnosis_delay=18.0), AgeGroup(index=8, severity=[0.763, 0.582, 0.327, 0.184, 0.161, 0.136, 0.078], isolation_adherence=1.8, isolation_effectiveness=0.9, diagnosis_delay=18.0)], home_size_probabilities=array([0.3 , 0.25, 0.25, 0.2 ]), inhabitants=10000000.0, seed_infections=9, geosocial_displacement=0.2, isolation_propensity_increase=0.0), Population(name='classe_e', age_probabilities=array([0.13 , 0.152, 0.184, 0.169, 0.14 , 0.107, 0.064, 0.036, 0.018]), age_groups=[AgeGroup(index=0, severity=[0.3, 0.017, 0.0012, 9e-05, 0.000122, 7.5e-05, 1.6e-05], isolation_adherence=-0.7999999999999999, isolation_effectiveness=0.7, diagnosis_delay=18.0), AgeGroup(index=1, severity=[0.4, 0.02, 0.003, 0.0004, 0.000365, 0.000245, 7e-05], isolation_adherence=-1.2, isolation_effectiveness=0.7, diagnosis_delay=18.0), AgeGroup(index=2, severity=[0.5, 0.105, 0.034, 0.011, 0.002, 0.001, 0.00031], isolation_adherence=-1.7, isolation_effectiveness=0.7, diagnosis_delay=18.0), AgeGroup(index=3, severity=[0.55, 0.241, 0.091, 0.034, 0.005, 0.003, 0.00084], isolation_adherence=-1.5, isolation_effectiveness=0.7, diagnosis_delay=18.0), AgeGroup(index=4, severity=[0.59, 0.225, 0.098, 0.043, 0.007, 0.005, 0.0016], isolation_adherence=-1.0, isolation_effectiveness=0.7, diagnosis_delay=18.0), AgeGroup(index=5, severity=[0.62, 0.286, 0.153, 0.082, 0.02, 0.015, 0.006], isolation_adherence=-0.5, isolation_effectiveness=0.7, diagnosis_delay=18.0), AgeGroup(index=6, severity=[0.65, 0.328, 0.197, 0.118, 0.047, 0.038, 0.019], isolation_adherence=-0.7, isolation_effectiveness=0.7, diagnosis_delay=18.0), AgeGroup(index=7, severity=[0.68, 0.339, 0.237, 0.166, 0.084, 0.072, 0.043], isolation_adherence=0.6000000000000001, isolation_effectiveness=0.7, diagnosis_delay=18.0), AgeGroup(index=8, severity=[0.763, 0.582, 0.327, 0.184, 0.161, 0.136, 0.078], isolation_adherence=0.6000000000000001, isolation_effectiveness=0.7, diagnosis_delay=18.0)], home_size_probabilities=array([0.3 , 0.25, 0.25, 0.2 ]), inhabitants=1666666.6666666667, seed_infections=1, geosocial_displacement=0.6, isolation_propensity_increase=0.0)], constants=SimulationConstants(contagion_duration_scale=4.0, contagion_duration_shape=2.0, home_contamination_daily_probability=0.3, immunization_period=0.0, incubation_to_symptoms_variable_fraction=0.3, survival_probability_in_severe_overcapacity=0.3, survival_probability_without_hospital_bed=0.9, survival_probability_without_intensive_care_bed=0.8, survival_probability_without_ventilator=0.1, symptoms_delay_scale=6.0, symptoms_delay_shape=4.0, time_to_hospitalization_severe_proportion=0.5, time_to_outcome_severe_scale=12.0, time_to_outcome_severe_shape=2.0), interventions=[SocialDistancingChange(simulation_day=0, parameter=0.2), SocialDistancingChange(simulation_day=3, parameter=0.45), SocialDistancingChange(simulation_day=9, parameter=0.68), SocialDistancingChange(simulation_day=16, parameter=0.66), SocialDistancingChange(simulation_day=23, parameter=0.62), DiagnosisDelayChange(simulation_day=18, parameter=14.0), DiagnosisDelayChange(simulation_day=25, parameter=10.0), DiagnosisDelayChange(simulation_day=33, parameter=7.0)], d0_infections=18000, start_date='2020-03-13', home_age_cofactor=0.4, transmission_scale_days=0.3, min_age_group_initially_infected=4, capacity_ventilators=4000, capacity_icu=4000, capacity_hospital_beds=20000, capacity_hospital_max=60000, total_inhabitants=20000000.0)"
      ]
     },
     "execution_count": 12,
     "metadata": {},
     "output_type": "execute_result"
    }
   ],
   "source": [
    "br_saopaulo_params"
   ]
  }
 ],
 "metadata": {
  "kernelspec": {
   "display_name": "Python 3.7.2 64-bit ('venv': venv)",
   "language": "python",
   "name": "python37264bitvenvvenv4094abe7fab0497ea50d20c503a67737"
  },
  "language_info": {
   "codemirror_mode": {
    "name": "ipython",
    "version": 3
   },
   "file_extension": ".py",
   "mimetype": "text/x-python",
   "name": "python",
   "nbconvert_exporter": "python",
   "pygments_lexer": "ipython3",
   "version": "3.7.2"
  }
 },
 "nbformat": 4,
 "nbformat_minor": 4
}
