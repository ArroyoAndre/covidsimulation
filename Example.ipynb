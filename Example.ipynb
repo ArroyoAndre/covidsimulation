{
 "cells": [
  {
   "cell_type": "code",
   "execution_count": 15,
   "metadata": {},
   "outputs": [
    {
     "name": "stdout",
     "output_type": "stream",
     "text": [
      "Ignoring dataclasses: markers 'python_version < \"3.7\"' don't match your environment\n",
      "Requirement already satisfied: smart_open in /Users/andre/code/covid/venv/lib/python3.7/site-packages (from -r requirements.txt (line 1)) (1.10.0)\n",
      "Requirement already satisfied: matplotlib in /Users/andre/code/covid/venv/lib/python3.7/site-packages (from -r requirements.txt (line 2)) (3.2.1)\n",
      "Requirement already satisfied: plotly in /Users/andre/code/covid/venv/lib/python3.7/site-packages (from -r requirements.txt (line 3)) (4.6.0)\n",
      "Requirement already satisfied: numpy in /Users/andre/code/covid/venv/lib/python3.7/site-packages (from -r requirements.txt (line 4)) (1.18.2)\n",
      "Requirement already satisfied: pandas in /Users/andre/code/covid/venv/lib/python3.7/site-packages (from -r requirements.txt (line 5)) (1.0.3)\n",
      "Requirement already satisfied: simpy in /Users/andre/code/covid/venv/lib/python3.7/site-packages (from -r requirements.txt (line 6)) (3.0.12)\n",
      "Requirement already satisfied: Cython==0.29.16 in /Users/andre/code/covid/venv/lib/python3.7/site-packages (from -r requirements.txt (line 7)) (0.29.16)\n",
      "Requirement already satisfied: tqdm in /Users/andre/code/covid/venv/lib/python3.7/site-packages (from -r requirements.txt (line 9)) (4.45.0)\n",
      "Requirement already satisfied: pytest in /Users/andre/code/covid/venv/lib/python3.7/site-packages (from -r requirements.txt (line 10)) (5.4.1)\n",
      "Requirement already satisfied: ipywidgets in /Users/andre/code/covid/venv/lib/python3.7/site-packages (from -r requirements.txt (line 11)) (7.5.1)\n",
      "Requirement already satisfied: requests in /Users/andre/code/covid/venv/lib/python3.7/site-packages (from smart_open->-r requirements.txt (line 1)) (2.23.0)\n",
      "Requirement already satisfied: boto3 in /Users/andre/code/covid/venv/lib/python3.7/site-packages (from smart_open->-r requirements.txt (line 1)) (1.12.36)\n",
      "Requirement already satisfied: google-cloud-storage in /Users/andre/code/covid/venv/lib/python3.7/site-packages (from smart_open->-r requirements.txt (line 1)) (1.27.0)\n",
      "Requirement already satisfied: cycler>=0.10 in /Users/andre/code/covid/venv/lib/python3.7/site-packages (from matplotlib->-r requirements.txt (line 2)) (0.10.0)\n",
      "Requirement already satisfied: pyparsing!=2.0.4,!=2.1.2,!=2.1.6,>=2.0.1 in /Users/andre/code/covid/venv/lib/python3.7/site-packages (from matplotlib->-r requirements.txt (line 2)) (2.4.6)\n",
      "Requirement already satisfied: kiwisolver>=1.0.1 in /Users/andre/code/covid/venv/lib/python3.7/site-packages (from matplotlib->-r requirements.txt (line 2)) (1.2.0)\n",
      "Requirement already satisfied: python-dateutil>=2.1 in /Users/andre/code/covid/venv/lib/python3.7/site-packages (from matplotlib->-r requirements.txt (line 2)) (2.8.1)\n",
      "Requirement already satisfied: six in /Users/andre/code/covid/venv/lib/python3.7/site-packages (from plotly->-r requirements.txt (line 3)) (1.14.0)\n",
      "Requirement already satisfied: retrying>=1.3.3 in /Users/andre/code/covid/venv/lib/python3.7/site-packages (from plotly->-r requirements.txt (line 3)) (1.3.3)\n",
      "Requirement already satisfied: pytz>=2017.2 in /Users/andre/code/covid/venv/lib/python3.7/site-packages (from pandas->-r requirements.txt (line 5)) (2019.3)\n",
      "Requirement already satisfied: packaging in /Users/andre/code/covid/venv/lib/python3.7/site-packages (from pytest->-r requirements.txt (line 10)) (20.3)\n",
      "Requirement already satisfied: wcwidth in /Users/andre/code/covid/venv/lib/python3.7/site-packages (from pytest->-r requirements.txt (line 10)) (0.1.9)\n",
      "Requirement already satisfied: more-itertools>=4.0.0 in /Users/andre/code/covid/venv/lib/python3.7/site-packages (from pytest->-r requirements.txt (line 10)) (8.2.0)\n",
      "Requirement already satisfied: pluggy<1.0,>=0.12 in /Users/andre/code/covid/venv/lib/python3.7/site-packages (from pytest->-r requirements.txt (line 10)) (0.13.1)\n",
      "Requirement already satisfied: attrs>=17.4.0 in /Users/andre/code/covid/venv/lib/python3.7/site-packages (from pytest->-r requirements.txt (line 10)) (19.3.0)\n",
      "Requirement already satisfied: importlib-metadata>=0.12; python_version < \"3.8\" in /Users/andre/code/covid/venv/lib/python3.7/site-packages (from pytest->-r requirements.txt (line 10)) (1.6.0)\n",
      "Requirement already satisfied: py>=1.5.0 in /Users/andre/code/covid/venv/lib/python3.7/site-packages (from pytest->-r requirements.txt (line 10)) (1.8.1)\n",
      "Requirement already satisfied: ipykernel>=4.5.1 in /Users/andre/code/covid/venv/lib/python3.7/site-packages (from ipywidgets->-r requirements.txt (line 11)) (5.2.0)\n",
      "Requirement already satisfied: ipython>=4.0.0; python_version >= \"3.3\" in /Users/andre/code/covid/venv/lib/python3.7/site-packages (from ipywidgets->-r requirements.txt (line 11)) (7.13.0)\n",
      "Requirement already satisfied: widgetsnbextension~=3.5.0 in /Users/andre/code/covid/venv/lib/python3.7/site-packages (from ipywidgets->-r requirements.txt (line 11)) (3.5.1)\n",
      "Requirement already satisfied: nbformat>=4.2.0 in /Users/andre/code/covid/venv/lib/python3.7/site-packages (from ipywidgets->-r requirements.txt (line 11)) (5.0.5)\n",
      "Requirement already satisfied: traitlets>=4.3.1 in /Users/andre/code/covid/venv/lib/python3.7/site-packages (from ipywidgets->-r requirements.txt (line 11)) (4.3.3)\n",
      "Requirement already satisfied: chardet<4,>=3.0.2 in /Users/andre/code/covid/venv/lib/python3.7/site-packages (from requests->smart_open->-r requirements.txt (line 1)) (3.0.4)\n",
      "Requirement already satisfied: urllib3!=1.25.0,!=1.25.1,<1.26,>=1.21.1 in /Users/andre/code/covid/venv/lib/python3.7/site-packages (from requests->smart_open->-r requirements.txt (line 1)) (1.25.8)\n",
      "Requirement already satisfied: idna<3,>=2.5 in /Users/andre/code/covid/venv/lib/python3.7/site-packages (from requests->smart_open->-r requirements.txt (line 1)) (2.9)\n",
      "Requirement already satisfied: certifi>=2017.4.17 in /Users/andre/code/covid/venv/lib/python3.7/site-packages (from requests->smart_open->-r requirements.txt (line 1)) (2020.4.5)\n",
      "Requirement already satisfied: jmespath<1.0.0,>=0.7.1 in /Users/andre/code/covid/venv/lib/python3.7/site-packages (from boto3->smart_open->-r requirements.txt (line 1)) (0.9.5)\n",
      "Requirement already satisfied: s3transfer<0.4.0,>=0.3.0 in /Users/andre/code/covid/venv/lib/python3.7/site-packages (from boto3->smart_open->-r requirements.txt (line 1)) (0.3.3)\n",
      "Requirement already satisfied: botocore<1.16.0,>=1.15.36 in /Users/andre/code/covid/venv/lib/python3.7/site-packages (from boto3->smart_open->-r requirements.txt (line 1)) (1.15.36)\n",
      "Requirement already satisfied: google-resumable-media<0.6dev,>=0.5.0 in /Users/andre/code/covid/venv/lib/python3.7/site-packages (from google-cloud-storage->smart_open->-r requirements.txt (line 1)) (0.5.0)\n",
      "Requirement already satisfied: google-cloud-core<2.0dev,>=1.2.0 in /Users/andre/code/covid/venv/lib/python3.7/site-packages (from google-cloud-storage->smart_open->-r requirements.txt (line 1)) (1.3.0)\n",
      "Requirement already satisfied: google-auth<2.0dev,>=1.11.0 in /Users/andre/code/covid/venv/lib/python3.7/site-packages (from google-cloud-storage->smart_open->-r requirements.txt (line 1)) (1.13.1)\n",
      "Requirement already satisfied: zipp>=0.5 in /Users/andre/code/covid/venv/lib/python3.7/site-packages (from importlib-metadata>=0.12; python_version < \"3.8\"->pytest->-r requirements.txt (line 10)) (3.1.0)\n",
      "Requirement already satisfied: tornado>=4.2 in /Users/andre/code/covid/venv/lib/python3.7/site-packages (from ipykernel>=4.5.1->ipywidgets->-r requirements.txt (line 11)) (6.0.4)\n",
      "Requirement already satisfied: appnope; platform_system == \"Darwin\" in /Users/andre/code/covid/venv/lib/python3.7/site-packages (from ipykernel>=4.5.1->ipywidgets->-r requirements.txt (line 11)) (0.1.0)\n",
      "Requirement already satisfied: jupyter-client in /Users/andre/code/covid/venv/lib/python3.7/site-packages (from ipykernel>=4.5.1->ipywidgets->-r requirements.txt (line 11)) (6.1.2)\n",
      "Requirement already satisfied: pexpect; sys_platform != \"win32\" in /Users/andre/code/covid/venv/lib/python3.7/site-packages (from ipython>=4.0.0; python_version >= \"3.3\"->ipywidgets->-r requirements.txt (line 11)) (4.8.0)\n",
      "Requirement already satisfied: backcall in /Users/andre/code/covid/venv/lib/python3.7/site-packages (from ipython>=4.0.0; python_version >= \"3.3\"->ipywidgets->-r requirements.txt (line 11)) (0.1.0)\n",
      "Requirement already satisfied: pygments in /Users/andre/code/covid/venv/lib/python3.7/site-packages (from ipython>=4.0.0; python_version >= \"3.3\"->ipywidgets->-r requirements.txt (line 11)) (2.6.1)\n",
      "Requirement already satisfied: prompt-toolkit!=3.0.0,!=3.0.1,<3.1.0,>=2.0.0 in /Users/andre/code/covid/venv/lib/python3.7/site-packages (from ipython>=4.0.0; python_version >= \"3.3\"->ipywidgets->-r requirements.txt (line 11)) (3.0.5)\n",
      "Requirement already satisfied: decorator in /Users/andre/code/covid/venv/lib/python3.7/site-packages (from ipython>=4.0.0; python_version >= \"3.3\"->ipywidgets->-r requirements.txt (line 11)) (4.4.2)\n",
      "Requirement already satisfied: pickleshare in /Users/andre/code/covid/venv/lib/python3.7/site-packages (from ipython>=4.0.0; python_version >= \"3.3\"->ipywidgets->-r requirements.txt (line 11)) (0.7.5)\n",
      "Requirement already satisfied: jedi>=0.10 in /Users/andre/code/covid/venv/lib/python3.7/site-packages (from ipython>=4.0.0; python_version >= \"3.3\"->ipywidgets->-r requirements.txt (line 11)) (0.16.0)\n",
      "Requirement already satisfied: setuptools>=18.5 in /Users/andre/code/covid/venv/lib/python3.7/site-packages (from ipython>=4.0.0; python_version >= \"3.3\"->ipywidgets->-r requirements.txt (line 11)) (46.1.3)\n",
      "Requirement already satisfied: notebook>=4.4.1 in /Users/andre/code/covid/venv/lib/python3.7/site-packages (from widgetsnbextension~=3.5.0->ipywidgets->-r requirements.txt (line 11)) (6.0.3)\n"
     ]
    },
    {
     "name": "stdout",
     "output_type": "stream",
     "text": [
      "Requirement already satisfied: jsonschema!=2.5.0,>=2.4 in /Users/andre/code/covid/venv/lib/python3.7/site-packages (from nbformat>=4.2.0->ipywidgets->-r requirements.txt (line 11)) (3.2.0)\n",
      "Requirement already satisfied: jupyter-core in /Users/andre/code/covid/venv/lib/python3.7/site-packages (from nbformat>=4.2.0->ipywidgets->-r requirements.txt (line 11)) (4.6.3)\n",
      "Requirement already satisfied: ipython-genutils in /Users/andre/code/covid/venv/lib/python3.7/site-packages (from nbformat>=4.2.0->ipywidgets->-r requirements.txt (line 11)) (0.2.0)\n",
      "Requirement already satisfied: docutils<0.16,>=0.10 in /Users/andre/code/covid/venv/lib/python3.7/site-packages (from botocore<1.16.0,>=1.15.36->boto3->smart_open->-r requirements.txt (line 1)) (0.15.2)\n",
      "Requirement already satisfied: google-api-core<2.0.0dev,>=1.16.0 in /Users/andre/code/covid/venv/lib/python3.7/site-packages (from google-cloud-core<2.0dev,>=1.2.0->google-cloud-storage->smart_open->-r requirements.txt (line 1)) (1.16.0)\n",
      "Requirement already satisfied: rsa<4.1,>=3.1.4 in /Users/andre/code/covid/venv/lib/python3.7/site-packages (from google-auth<2.0dev,>=1.11.0->google-cloud-storage->smart_open->-r requirements.txt (line 1)) (4.0)\n",
      "Requirement already satisfied: pyasn1-modules>=0.2.1 in /Users/andre/code/covid/venv/lib/python3.7/site-packages (from google-auth<2.0dev,>=1.11.0->google-cloud-storage->smart_open->-r requirements.txt (line 1)) (0.2.8)\n",
      "Requirement already satisfied: cachetools<5.0,>=2.0.0 in /Users/andre/code/covid/venv/lib/python3.7/site-packages (from google-auth<2.0dev,>=1.11.0->google-cloud-storage->smart_open->-r requirements.txt (line 1)) (4.0.0)\n",
      "Requirement already satisfied: pyzmq>=13 in /Users/andre/code/covid/venv/lib/python3.7/site-packages (from jupyter-client->ipykernel>=4.5.1->ipywidgets->-r requirements.txt (line 11)) (19.0.0)\n",
      "Requirement already satisfied: ptyprocess>=0.5 in /Users/andre/code/covid/venv/lib/python3.7/site-packages (from pexpect; sys_platform != \"win32\"->ipython>=4.0.0; python_version >= \"3.3\"->ipywidgets->-r requirements.txt (line 11)) (0.6.0)\n",
      "Requirement already satisfied: parso>=0.5.2 in /Users/andre/code/covid/venv/lib/python3.7/site-packages (from jedi>=0.10->ipython>=4.0.0; python_version >= \"3.3\"->ipywidgets->-r requirements.txt (line 11)) (0.6.2)\n",
      "Requirement already satisfied: prometheus-client in /Users/andre/code/covid/venv/lib/python3.7/site-packages (from notebook>=4.4.1->widgetsnbextension~=3.5.0->ipywidgets->-r requirements.txt (line 11)) (0.7.1)\n",
      "Requirement already satisfied: jinja2 in /Users/andre/code/covid/venv/lib/python3.7/site-packages (from notebook>=4.4.1->widgetsnbextension~=3.5.0->ipywidgets->-r requirements.txt (line 11)) (2.11.1)\n",
      "Requirement already satisfied: terminado>=0.8.1 in /Users/andre/code/covid/venv/lib/python3.7/site-packages (from notebook>=4.4.1->widgetsnbextension~=3.5.0->ipywidgets->-r requirements.txt (line 11)) (0.8.3)\n",
      "Requirement already satisfied: nbconvert in /Users/andre/code/covid/venv/lib/python3.7/site-packages (from notebook>=4.4.1->widgetsnbextension~=3.5.0->ipywidgets->-r requirements.txt (line 11)) (5.6.1)\n",
      "Requirement already satisfied: Send2Trash in /Users/andre/code/covid/venv/lib/python3.7/site-packages (from notebook>=4.4.1->widgetsnbextension~=3.5.0->ipywidgets->-r requirements.txt (line 11)) (1.5.0)\n",
      "Requirement already satisfied: pyrsistent>=0.14.0 in /Users/andre/code/covid/venv/lib/python3.7/site-packages (from jsonschema!=2.5.0,>=2.4->nbformat>=4.2.0->ipywidgets->-r requirements.txt (line 11)) (0.16.0)\n",
      "Requirement already satisfied: protobuf>=3.4.0 in /Users/andre/code/covid/venv/lib/python3.7/site-packages (from google-api-core<2.0.0dev,>=1.16.0->google-cloud-core<2.0dev,>=1.2.0->google-cloud-storage->smart_open->-r requirements.txt (line 1)) (3.11.3)\n",
      "Requirement already satisfied: googleapis-common-protos<2.0dev,>=1.6.0 in /Users/andre/code/covid/venv/lib/python3.7/site-packages (from google-api-core<2.0.0dev,>=1.16.0->google-cloud-core<2.0dev,>=1.2.0->google-cloud-storage->smart_open->-r requirements.txt (line 1)) (1.51.0)\n",
      "Requirement already satisfied: pyasn1>=0.1.3 in /Users/andre/code/covid/venv/lib/python3.7/site-packages (from rsa<4.1,>=3.1.4->google-auth<2.0dev,>=1.11.0->google-cloud-storage->smart_open->-r requirements.txt (line 1)) (0.4.8)\n",
      "Requirement already satisfied: MarkupSafe>=0.23 in /Users/andre/code/covid/venv/lib/python3.7/site-packages (from jinja2->notebook>=4.4.1->widgetsnbextension~=3.5.0->ipywidgets->-r requirements.txt (line 11)) (1.1.1)\n",
      "Requirement already satisfied: mistune<2,>=0.8.1 in /Users/andre/code/covid/venv/lib/python3.7/site-packages (from nbconvert->notebook>=4.4.1->widgetsnbextension~=3.5.0->ipywidgets->-r requirements.txt (line 11)) (0.8.4)\n",
      "Requirement already satisfied: testpath in /Users/andre/code/covid/venv/lib/python3.7/site-packages (from nbconvert->notebook>=4.4.1->widgetsnbextension~=3.5.0->ipywidgets->-r requirements.txt (line 11)) (0.4.4)\n",
      "Requirement already satisfied: entrypoints>=0.2.2 in /Users/andre/code/covid/venv/lib/python3.7/site-packages (from nbconvert->notebook>=4.4.1->widgetsnbextension~=3.5.0->ipywidgets->-r requirements.txt (line 11)) (0.3)\n",
      "Requirement already satisfied: bleach in /Users/andre/code/covid/venv/lib/python3.7/site-packages (from nbconvert->notebook>=4.4.1->widgetsnbextension~=3.5.0->ipywidgets->-r requirements.txt (line 11)) (3.1.4)\n",
      "Requirement already satisfied: pandocfilters>=1.4.1 in /Users/andre/code/covid/venv/lib/python3.7/site-packages (from nbconvert->notebook>=4.4.1->widgetsnbextension~=3.5.0->ipywidgets->-r requirements.txt (line 11)) (1.4.2)\n",
      "Requirement already satisfied: defusedxml in /Users/andre/code/covid/venv/lib/python3.7/site-packages (from nbconvert->notebook>=4.4.1->widgetsnbextension~=3.5.0->ipywidgets->-r requirements.txt (line 11)) (0.6.0)\n",
      "Requirement already satisfied: webencodings in /Users/andre/code/covid/venv/lib/python3.7/site-packages (from bleach->nbconvert->notebook>=4.4.1->widgetsnbextension~=3.5.0->ipywidgets->-r requirements.txt (line 11)) (0.5.1)\n",
      "running build_ext\n",
      "copying build/lib.macosx-10.14-x86_64-3.7/covidsimulation/simulation.cpython-37m-darwin.so -> covidsimulation\n",
      "running install\n",
      "running bdist_egg\n",
      "running egg_info\n",
      "writing covidsimulation.egg-info/PKG-INFO\n",
      "writing dependency_links to covidsimulation.egg-info/dependency_links.txt\n",
      "writing top-level names to covidsimulation.egg-info/top_level.txt\n",
      "reading manifest file 'covidsimulation.egg-info/SOURCES.txt'\n",
      "writing manifest file 'covidsimulation.egg-info/SOURCES.txt'\n",
      "installing library code to build/bdist.macosx-10.14-x86_64/egg\n",
      "running install_lib\n",
      "running build_py\n",
      "copying covidsimulation/intervention.py -> build/lib.macosx-10.14-x86_64-3.7/covidsimulation\n",
      "running build_ext\n",
      "creating build/bdist.macosx-10.14-x86_64/egg\n",
      "creating build/bdist.macosx-10.14-x86_64/egg/covidsimulation\n",
      "copying build/lib.macosx-10.14-x86_64-3.7/covidsimulation/metrics.py -> build/bdist.macosx-10.14-x86_64/egg/covidsimulation\n",
      "copying build/lib.macosx-10.14-x86_64-3.7/covidsimulation/callibrate.py -> build/bdist.macosx-10.14-x86_64/egg/covidsimulation\n",
      "creating build/bdist.macosx-10.14-x86_64/egg/covidsimulation/regions\n",
      "copying build/lib.macosx-10.14-x86_64-3.7/covidsimulation/regions/br_saopaulo.py -> build/bdist.macosx-10.14-x86_64/egg/covidsimulation/regions\n",
      "copying build/lib.macosx-10.14-x86_64-3.7/covidsimulation/regions/__init__.py -> build/bdist.macosx-10.14-x86_64/egg/covidsimulation/regions\n",
      "copying build/lib.macosx-10.14-x86_64-3.7/covidsimulation/regions/br_riodejaneiro.py -> build/bdist.macosx-10.14-x86_64/egg/covidsimulation/regions\n",
      "copying build/lib.macosx-10.14-x86_64-3.7/covidsimulation/plot.py -> build/bdist.macosx-10.14-x86_64/egg/covidsimulation\n",
      "copying build/lib.macosx-10.14-x86_64-3.7/covidsimulation/age_group.py -> build/bdist.macosx-10.14-x86_64/egg/covidsimulation\n",
      "copying build/lib.macosx-10.14-x86_64-3.7/covidsimulation/population.py -> build/bdist.macosx-10.14-x86_64/egg/covidsimulation\n",
      "copying build/lib.macosx-10.14-x86_64-3.7/covidsimulation/cache.py -> build/bdist.macosx-10.14-x86_64/egg/covidsimulation\n",
      "copying build/lib.macosx-10.14-x86_64-3.7/covidsimulation/__init__.py -> build/bdist.macosx-10.14-x86_64/egg/covidsimulation\n",
      "copying build/lib.macosx-10.14-x86_64-3.7/covidsimulation/disease_parameters.py -> build/bdist.macosx-10.14-x86_64/egg/covidsimulation\n",
      "copying build/lib.macosx-10.14-x86_64-3.7/covidsimulation/intervention.py -> build/bdist.macosx-10.14-x86_64/egg/covidsimulation\n",
      "copying build/lib.macosx-10.14-x86_64-3.7/covidsimulation/simulation_engine.py -> build/bdist.macosx-10.14-x86_64/egg/covidsimulation\n",
      "copying build/lib.macosx-10.14-x86_64-3.7/covidsimulation/stats.py -> build/bdist.macosx-10.14-x86_64/egg/covidsimulation\n",
      "copying build/lib.macosx-10.14-x86_64-3.7/covidsimulation/simulation.cpython-37m-darwin.so -> build/bdist.macosx-10.14-x86_64/egg/covidsimulation\n",
      "copying build/lib.macosx-10.14-x86_64-3.7/covidsimulation/parameters.py -> build/bdist.macosx-10.14-x86_64/egg/covidsimulation\n",
      "copying build/lib.macosx-10.14-x86_64-3.7/covidsimulation/progress.py -> build/bdist.macosx-10.14-x86_64/egg/covidsimulation\n",
      "copying build/lib.macosx-10.14-x86_64-3.7/covidsimulation/lab.py -> build/bdist.macosx-10.14-x86_64/egg/covidsimulation\n",
      "creating build/bdist.macosx-10.14-x86_64/egg/examples\n",
      "copying build/lib.macosx-10.14-x86_64-3.7/examples/__init__.py -> build/bdist.macosx-10.14-x86_64/egg/examples\n",
      "byte-compiling build/bdist.macosx-10.14-x86_64/egg/covidsimulation/metrics.py to metrics.cpython-37.pyc\n",
      "byte-compiling build/bdist.macosx-10.14-x86_64/egg/covidsimulation/callibrate.py to callibrate.cpython-37.pyc\n",
      "byte-compiling build/bdist.macosx-10.14-x86_64/egg/covidsimulation/regions/br_saopaulo.py to br_saopaulo.cpython-37.pyc\n",
      "byte-compiling build/bdist.macosx-10.14-x86_64/egg/covidsimulation/regions/__init__.py to __init__.cpython-37.pyc\n",
      "byte-compiling build/bdist.macosx-10.14-x86_64/egg/covidsimulation/regions/br_riodejaneiro.py to br_riodejaneiro.cpython-37.pyc\n",
      "byte-compiling build/bdist.macosx-10.14-x86_64/egg/covidsimulation/plot.py to plot.cpython-37.pyc\n",
      "byte-compiling build/bdist.macosx-10.14-x86_64/egg/covidsimulation/age_group.py to age_group.cpython-37.pyc\n",
      "byte-compiling build/bdist.macosx-10.14-x86_64/egg/covidsimulation/population.py to population.cpython-37.pyc\n",
      "byte-compiling build/bdist.macosx-10.14-x86_64/egg/covidsimulation/cache.py to cache.cpython-37.pyc\n",
      "byte-compiling build/bdist.macosx-10.14-x86_64/egg/covidsimulation/__init__.py to __init__.cpython-37.pyc\n",
      "byte-compiling build/bdist.macosx-10.14-x86_64/egg/covidsimulation/disease_parameters.py to disease_parameters.cpython-37.pyc\n",
      "byte-compiling build/bdist.macosx-10.14-x86_64/egg/covidsimulation/intervention.py to intervention.cpython-37.pyc\n",
      "byte-compiling build/bdist.macosx-10.14-x86_64/egg/covidsimulation/simulation_engine.py to simulation_engine.cpython-37.pyc\n",
      "byte-compiling build/bdist.macosx-10.14-x86_64/egg/covidsimulation/stats.py to stats.cpython-37.pyc\n",
      "byte-compiling build/bdist.macosx-10.14-x86_64/egg/covidsimulation/parameters.py to parameters.cpython-37.pyc\n",
      "byte-compiling build/bdist.macosx-10.14-x86_64/egg/covidsimulation/progress.py to progress.cpython-37.pyc\n",
      "byte-compiling build/bdist.macosx-10.14-x86_64/egg/covidsimulation/lab.py to lab.cpython-37.pyc\n",
      "byte-compiling build/bdist.macosx-10.14-x86_64/egg/examples/__init__.py to __init__.cpython-37.pyc\n",
      "creating stub loader for covidsimulation/simulation.cpython-37m-darwin.so\n",
      "byte-compiling build/bdist.macosx-10.14-x86_64/egg/covidsimulation/simulation.py to simulation.cpython-37.pyc\n",
      "creating build/bdist.macosx-10.14-x86_64/egg/EGG-INFO\n",
      "copying covidsimulation.egg-info/PKG-INFO -> build/bdist.macosx-10.14-x86_64/egg/EGG-INFO\n",
      "copying covidsimulation.egg-info/SOURCES.txt -> build/bdist.macosx-10.14-x86_64/egg/EGG-INFO\n",
      "copying covidsimulation.egg-info/dependency_links.txt -> build/bdist.macosx-10.14-x86_64/egg/EGG-INFO\n",
      "copying covidsimulation.egg-info/top_level.txt -> build/bdist.macosx-10.14-x86_64/egg/EGG-INFO\n",
      "writing build/bdist.macosx-10.14-x86_64/egg/EGG-INFO/native_libs.txt\n",
      "zip_safe flag not set; analyzing archive contents...\n",
      "covidsimulation.__pycache__.simulation.cpython-37: module references __file__\n",
      "creating 'dist/covidsimulation-0.0.1-py3.7-macosx-10.14-x86_64.egg' and adding 'build/bdist.macosx-10.14-x86_64/egg' to it\n"
     ]
    },
    {
     "name": "stdout",
     "output_type": "stream",
     "text": [
      "removing 'build/bdist.macosx-10.14-x86_64/egg' (and everything under it)\n",
      "Processing covidsimulation-0.0.1-py3.7-macosx-10.14-x86_64.egg\n",
      "removing '/Users/andre/code/covid/venv/lib/python3.7/site-packages/covidsimulation-0.0.1-py3.7-macosx-10.14-x86_64.egg' (and everything under it)\n",
      "creating /Users/andre/code/covid/venv/lib/python3.7/site-packages/covidsimulation-0.0.1-py3.7-macosx-10.14-x86_64.egg\n",
      "Extracting covidsimulation-0.0.1-py3.7-macosx-10.14-x86_64.egg to /Users/andre/code/covid/venv/lib/python3.7/site-packages\n",
      "covidsimulation 0.0.1 is already the active version in easy-install.pth\n",
      "\n",
      "Installed /Users/andre/code/covid/venv/lib/python3.7/site-packages/covidsimulation-0.0.1-py3.7-macosx-10.14-x86_64.egg\n",
      "Processing dependencies for covidsimulation==0.0.1\n",
      "Finished processing dependencies for covidsimulation==0.0.1\n"
     ]
    }
   ],
   "source": [
    "! ./setup.sh"
   ]
  },
  {
   "cell_type": "code",
   "execution_count": 2,
   "metadata": {},
   "outputs": [],
   "source": [
    "%matplotlib inline"
   ]
  },
  {
   "cell_type": "code",
   "execution_count": 1,
   "metadata": {},
   "outputs": [],
   "source": [
    "from covidsimulation.regions.br_saopaulo import params as br_saopaulo_params\n",
    "from covidsimulation import run_simulations, plot, Stats\n",
    "from tqdm import tqdm\n",
    "from copy import deepcopy\n",
    "\n",
    "params = deepcopy(br_saopaulo_params)\n",
    "params.interventions = []\n",
    "\n",
    "stats = run_simulations(\n",
    "    sim_params=params, \n",
    "    simulate_capacity=False, \n",
    "    duration=20, \n",
    "    number_of_simulations=4, \n",
    "    simulation_size=20000, \n",
    "    fpath='saved/teste.pkl',\n",
    "    tqdm=None,\n",
    "    )"
   ]
  },
  {
   "cell_type": "code",
   "execution_count": 2,
   "metadata": {},
   "outputs": [
    {
     "data": {
      "application/vnd.jupyter.widget-view+json": {
       "model_id": "bb818c3070914e2db07eddcbef21f034",
       "version_major": 2,
       "version_minor": 0
      },
      "text/plain": [
       "FigureWidget({\n",
       "    'data': [{'fill': 'toself',\n",
       "              'fillcolor': 'rgba(0,0,255,0.25)',\n",
       "              …"
      ]
     },
     "metadata": {},
     "output_type": "display_data"
    }
   ],
   "source": [
    "plot([\n",
    "        (stats.get_metric('infected'), 'Total'),\n",
    "        (stats.get_metric('infected', None, '30-39'), '30-39'),\n",
    "    ], 'Infected', False, stop=90)\n"
   ]
  },
  {
   "cell_type": "code",
   "execution_count": 3,
   "metadata": {},
   "outputs": [],
   "source": [
    "saved_stats = Stats.load('saved/teste')"
   ]
  },
  {
   "cell_type": "code",
   "execution_count": 2,
   "metadata": {},
   "outputs": [
    {
     "name": "stdout",
     "output_type": "stream",
     "text": [
      "aplicando SocialDistancingChange(simulation_day=0, parameter=0.2)\n",
      "aplicando SocialDistancingChange(simulation_day=0, parameter=0.2)\n",
      "aplicando SocialDistancingChange(simulation_day=3, parameter=0.45)\n",
      "aplicando SocialDistancingChange(simulation_day=3, parameter=0.45)\n",
      "aplicando SocialDistancingChange(simulation_day=9, parameter=0.68)\n",
      "aplicando SocialDistancingChange(simulation_day=9, parameter=0.68)\n",
      "aplicando SocialDistancingChange(simulation_day=16, parameter=0.66)\n",
      "aplicando SocialDistancingChange(simulation_day=16, parameter=0.66)\n",
      "aplicando DiagnosisDelayChange(simulation_day=18, parameter=14.0)\n",
      "aplicando DiagnosisDelayChange(simulation_day=18, parameter=14.0)\n",
      "aplicando SocialDistancingChange(simulation_day=23, parameter=0.62)\n",
      "aplicando SocialDistancingChange(simulation_day=23, parameter=0.62)\n",
      "aplicando DiagnosisDelayChange(simulation_day=25, parameter=10.0)\n",
      "aplicando DiagnosisDelayChange(simulation_day=25, parameter=10.0)\n",
      "aplicando DiagnosisDelayChange(simulation_day=33, parameter=7.0)\n",
      "aplicando DiagnosisDelayChange(simulation_day=33, parameter=7.0)\n"
     ]
    }
   ],
   "source": [
    "\n",
    "stats_isolation = run_simulations(\n",
    "    sim_params=br_saopaulo_params, \n",
    "    simulate_capacity=False, \n",
    "    duration=47, \n",
    "    number_of_simulations=2, \n",
    "    simulation_size=20000, \n",
    "    fpath='saved/isolated.pkl',\n",
    "    )"
   ]
  },
  {
   "cell_type": "code",
   "execution_count": 3,
   "metadata": {},
   "outputs": [
    {
     "ename": "NameError",
     "evalue": "name 'saved_stats' is not defined",
     "output_type": "error",
     "traceback": [
      "\u001b[0;31m---------------------------------------------------------------------------\u001b[0m",
      "\u001b[0;31mNameError\u001b[0m                                 Traceback (most recent call last)",
      "\u001b[0;32m<ipython-input-3-81e3f08da4f5>\u001b[0m in \u001b[0;36m<module>\u001b[0;34m\u001b[0m\n\u001b[1;32m      1\u001b[0m plot([\n\u001b[0;32m----> 2\u001b[0;31m         \u001b[0;34m(\u001b[0m\u001b[0msaved_stats\u001b[0m\u001b[0;34m.\u001b[0m\u001b[0mget_metric\u001b[0m\u001b[0;34m(\u001b[0m\u001b[0;34m'infected'\u001b[0m\u001b[0;34m)\u001b[0m\u001b[0;34m,\u001b[0m \u001b[0;34m'Nothing done'\u001b[0m\u001b[0;34m)\u001b[0m\u001b[0;34m,\u001b[0m\u001b[0;34m\u001b[0m\u001b[0;34m\u001b[0m\u001b[0m\n\u001b[0m\u001b[1;32m      3\u001b[0m         \u001b[0;34m(\u001b[0m\u001b[0mstats_isolation\u001b[0m\u001b[0;34m.\u001b[0m\u001b[0mget_metric\u001b[0m\u001b[0;34m(\u001b[0m\u001b[0;34m'infected'\u001b[0m\u001b[0;34m)\u001b[0m\u001b[0;34m,\u001b[0m \u001b[0;34m'Social distancing'\u001b[0m\u001b[0;34m)\u001b[0m\u001b[0;34m,\u001b[0m\u001b[0;34m\u001b[0m\u001b[0;34m\u001b[0m\u001b[0m\n\u001b[1;32m      4\u001b[0m     ], 'Infected', True, stop=90)\n",
      "\u001b[0;31mNameError\u001b[0m: name 'saved_stats' is not defined"
     ]
    }
   ],
   "source": [
    "plot([\n",
    "        (saved_stats.get_metric('infected'), 'Nothing done'),\n",
    "        (stats_isolation.get_metric('infected'), 'Social distancing'),\n",
    "    ], 'Infected', True, stop=90)\n"
   ]
  },
  {
   "cell_type": "code",
   "execution_count": 4,
   "metadata": {},
   "outputs": [
    {
     "data": {
      "application/vnd.jupyter.widget-view+json": {
       "model_id": "1aa0a20d67704557a0e48d3d84e09adf",
       "version_major": 2,
       "version_minor": 0
      },
      "text/plain": [
       "FigureWidget({\n",
       "    'data': [{'fill': 'toself',\n",
       "              'fillcolor': 'rgba(0,0,255,0.25)',\n",
       "              …"
      ]
     },
     "metadata": {},
     "output_type": "display_data"
    }
   ],
   "source": [
    "plot([\n",
    "        (stats_isolation.get_metric('deaths'), 'Nothing done'),\n",
    "        (stats_isolation.get_metric('confirmed_deaths'), 'Social distancing'),\n",
    "    ], 'Infected', False, stop=90)\n"
   ]
  },
  {
   "cell_type": "code",
   "execution_count": 14,
   "metadata": {},
   "outputs": [
    {
     "data": {
      "text/plain": [
       "[SocialDistancingChange(simulation_day=0, parameter=0.2),\n",
       " SocialDistancingChange(simulation_day=3, parameter=0.45),\n",
       " SocialDistancingChange(simulation_day=9, parameter=0.68),\n",
       " SocialDistancingChange(simulation_day=16, parameter=0.66),\n",
       " SocialDistancingChange(simulation_day=23, parameter=0.62),\n",
       " DiagnosisDelayChange(simulation_day=18, parameter=14.0),\n",
       " DiagnosisDelayChange(simulation_day=25, parameter=10.0),\n",
       " DiagnosisDelayChange(simulation_day=33, parameter=7.0)]"
      ]
     },
     "execution_count": 14,
     "metadata": {},
     "output_type": "execute_result"
    }
   ],
   "source": [
    "br_saopaulo_params.interventions"
   ]
  }
 ],
 "metadata": {
  "kernelspec": {
   "display_name": "Python 3.7.2 64-bit ('venv': venv)",
   "language": "python",
   "name": "python37264bitvenvvenv4094abe7fab0497ea50d20c503a67737"
  },
  "language_info": {
   "codemirror_mode": {
    "name": "ipython",
    "version": 3
   },
   "file_extension": ".py",
   "mimetype": "text/x-python",
   "name": "python",
   "nbconvert_exporter": "python",
   "pygments_lexer": "ipython3",
   "version": "3.7.2"
  }
 },
 "nbformat": 4,
 "nbformat_minor": 4
}
