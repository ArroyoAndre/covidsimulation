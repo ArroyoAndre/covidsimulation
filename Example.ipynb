{
 "cells": [
  {
   "cell_type": "code",
   "execution_count": 1,
   "metadata": {},
   "outputs": [
    {
     "output_type": "stream",
     "name": "stdout",
     "text": "Ignoring dataclasses: markers 'python_version < \"3.7\"' don't match your environment\nRequirement already satisfied: smart_open in /Users/andre/code/covid/venv/lib/python3.7/site-packages (from -r requirements.txt (line 1)) (1.10.0)\nRequirement already satisfied: matplotlib in /Users/andre/code/covid/venv/lib/python3.7/site-packages (from -r requirements.txt (line 2)) (3.2.1)\nRequirement already satisfied: plotly in /Users/andre/code/covid/venv/lib/python3.7/site-packages (from -r requirements.txt (line 3)) (4.6.0)\nRequirement already satisfied: numpy in /Users/andre/code/covid/venv/lib/python3.7/site-packages (from -r requirements.txt (line 4)) (1.18.2)\nRequirement already satisfied: pandas in /Users/andre/code/covid/venv/lib/python3.7/site-packages (from -r requirements.txt (line 5)) (1.0.3)\nRequirement already satisfied: simpy in /Users/andre/code/covid/venv/lib/python3.7/site-packages (from -r requirements.txt (line 6)) (3.0.12)\nRequirement already satisfied: Cython==0.29.16 in /Users/andre/code/covid/venv/lib/python3.7/site-packages (from -r requirements.txt (line 7)) (0.29.16)\nRequirement already satisfied: tqdm in /Users/andre/code/covid/venv/lib/python3.7/site-packages (from -r requirements.txt (line 9)) (4.45.0)\nRequirement already satisfied: pytest in /Users/andre/code/covid/venv/lib/python3.7/site-packages (from -r requirements.txt (line 10)) (5.4.1)\nRequirement already satisfied: requests in /Users/andre/code/covid/venv/lib/python3.7/site-packages (from smart_open->-r requirements.txt (line 1)) (2.23.0)\nRequirement already satisfied: boto3 in /Users/andre/code/covid/venv/lib/python3.7/site-packages (from smart_open->-r requirements.txt (line 1)) (1.12.36)\nRequirement already satisfied: google-cloud-storage in /Users/andre/code/covid/venv/lib/python3.7/site-packages (from smart_open->-r requirements.txt (line 1)) (1.27.0)\nRequirement already satisfied: pyparsing!=2.0.4,!=2.1.2,!=2.1.6,>=2.0.1 in /Users/andre/code/covid/venv/lib/python3.7/site-packages (from matplotlib->-r requirements.txt (line 2)) (2.4.6)\nRequirement already satisfied: cycler>=0.10 in /Users/andre/code/covid/venv/lib/python3.7/site-packages (from matplotlib->-r requirements.txt (line 2)) (0.10.0)\nRequirement already satisfied: kiwisolver>=1.0.1 in /Users/andre/code/covid/venv/lib/python3.7/site-packages (from matplotlib->-r requirements.txt (line 2)) (1.2.0)\nRequirement already satisfied: python-dateutil>=2.1 in /Users/andre/code/covid/venv/lib/python3.7/site-packages (from matplotlib->-r requirements.txt (line 2)) (2.8.1)\nRequirement already satisfied: six in /Users/andre/code/covid/venv/lib/python3.7/site-packages (from plotly->-r requirements.txt (line 3)) (1.14.0)\nRequirement already satisfied: retrying>=1.3.3 in /Users/andre/code/covid/venv/lib/python3.7/site-packages (from plotly->-r requirements.txt (line 3)) (1.3.3)\nRequirement already satisfied: pytz>=2017.2 in /Users/andre/code/covid/venv/lib/python3.7/site-packages (from pandas->-r requirements.txt (line 5)) (2019.3)\nRequirement already satisfied: pluggy<1.0,>=0.12 in /Users/andre/code/covid/venv/lib/python3.7/site-packages (from pytest->-r requirements.txt (line 10)) (0.13.1)\nRequirement already satisfied: importlib-metadata>=0.12; python_version < \"3.8\" in /Users/andre/code/covid/venv/lib/python3.7/site-packages (from pytest->-r requirements.txt (line 10)) (1.6.0)\nRequirement already satisfied: wcwidth in /Users/andre/code/covid/venv/lib/python3.7/site-packages (from pytest->-r requirements.txt (line 10)) (0.1.9)\nRequirement already satisfied: attrs>=17.4.0 in /Users/andre/code/covid/venv/lib/python3.7/site-packages (from pytest->-r requirements.txt (line 10)) (19.3.0)\nRequirement already satisfied: py>=1.5.0 in /Users/andre/code/covid/venv/lib/python3.7/site-packages (from pytest->-r requirements.txt (line 10)) (1.8.1)\nRequirement already satisfied: more-itertools>=4.0.0 in /Users/andre/code/covid/venv/lib/python3.7/site-packages (from pytest->-r requirements.txt (line 10)) (8.2.0)\nRequirement already satisfied: packaging in /Users/andre/code/covid/venv/lib/python3.7/site-packages (from pytest->-r requirements.txt (line 10)) (20.3)\nRequirement already satisfied: chardet<4,>=3.0.2 in /Users/andre/code/covid/venv/lib/python3.7/site-packages (from requests->smart_open->-r requirements.txt (line 1)) (3.0.4)\nRequirement already satisfied: idna<3,>=2.5 in /Users/andre/code/covid/venv/lib/python3.7/site-packages (from requests->smart_open->-r requirements.txt (line 1)) (2.9)\nRequirement already satisfied: certifi>=2017.4.17 in /Users/andre/code/covid/venv/lib/python3.7/site-packages (from requests->smart_open->-r requirements.txt (line 1)) (2020.4.5)\nRequirement already satisfied: urllib3!=1.25.0,!=1.25.1,<1.26,>=1.21.1 in /Users/andre/code/covid/venv/lib/python3.7/site-packages (from requests->smart_open->-r requirements.txt (line 1)) (1.25.8)\nRequirement already satisfied: s3transfer<0.4.0,>=0.3.0 in /Users/andre/code/covid/venv/lib/python3.7/site-packages (from boto3->smart_open->-r requirements.txt (line 1)) (0.3.3)\nRequirement already satisfied: botocore<1.16.0,>=1.15.36 in /Users/andre/code/covid/venv/lib/python3.7/site-packages (from boto3->smart_open->-r requirements.txt (line 1)) (1.15.36)\nRequirement already satisfied: jmespath<1.0.0,>=0.7.1 in /Users/andre/code/covid/venv/lib/python3.7/site-packages (from boto3->smart_open->-r requirements.txt (line 1)) (0.9.5)\nRequirement already satisfied: google-auth<2.0dev,>=1.11.0 in /Users/andre/code/covid/venv/lib/python3.7/site-packages (from google-cloud-storage->smart_open->-r requirements.txt (line 1)) (1.13.1)\nRequirement already satisfied: google-resumable-media<0.6dev,>=0.5.0 in /Users/andre/code/covid/venv/lib/python3.7/site-packages (from google-cloud-storage->smart_open->-r requirements.txt (line 1)) (0.5.0)\nRequirement already satisfied: google-cloud-core<2.0dev,>=1.2.0 in /Users/andre/code/covid/venv/lib/python3.7/site-packages (from google-cloud-storage->smart_open->-r requirements.txt (line 1)) (1.3.0)\nRequirement already satisfied: zipp>=0.5 in /Users/andre/code/covid/venv/lib/python3.7/site-packages (from importlib-metadata>=0.12; python_version < \"3.8\"->pytest->-r requirements.txt (line 10)) (3.1.0)\nRequirement already satisfied: docutils<0.16,>=0.10 in /Users/andre/code/covid/venv/lib/python3.7/site-packages (from botocore<1.16.0,>=1.15.36->boto3->smart_open->-r requirements.txt (line 1)) (0.15.2)\nRequirement already satisfied: setuptools>=40.3.0 in /Users/andre/code/covid/venv/lib/python3.7/site-packages (from google-auth<2.0dev,>=1.11.0->google-cloud-storage->smart_open->-r requirements.txt (line 1)) (46.1.3)\nRequirement already satisfied: pyasn1-modules>=0.2.1 in /Users/andre/code/covid/venv/lib/python3.7/site-packages (from google-auth<2.0dev,>=1.11.0->google-cloud-storage->smart_open->-r requirements.txt (line 1)) (0.2.8)\nRequirement already satisfied: rsa<4.1,>=3.1.4 in /Users/andre/code/covid/venv/lib/python3.7/site-packages (from google-auth<2.0dev,>=1.11.0->google-cloud-storage->smart_open->-r requirements.txt (line 1)) (4.0)\nRequirement already satisfied: cachetools<5.0,>=2.0.0 in /Users/andre/code/covid/venv/lib/python3.7/site-packages (from google-auth<2.0dev,>=1.11.0->google-cloud-storage->smart_open->-r requirements.txt (line 1)) (4.0.0)\nRequirement already satisfied: google-api-core<2.0.0dev,>=1.16.0 in /Users/andre/code/covid/venv/lib/python3.7/site-packages (from google-cloud-core<2.0dev,>=1.2.0->google-cloud-storage->smart_open->-r requirements.txt (line 1)) (1.16.0)\nRequirement already satisfied: pyasn1<0.5.0,>=0.4.6 in /Users/andre/code/covid/venv/lib/python3.7/site-packages (from pyasn1-modules>=0.2.1->google-auth<2.0dev,>=1.11.0->google-cloud-storage->smart_open->-r requirements.txt (line 1)) (0.4.8)\nRequirement already satisfied: googleapis-common-protos<2.0dev,>=1.6.0 in /Users/andre/code/covid/venv/lib/python3.7/site-packages (from google-api-core<2.0.0dev,>=1.16.0->google-cloud-core<2.0dev,>=1.2.0->google-cloud-storage->smart_open->-r requirements.txt (line 1)) (1.51.0)\nRequirement already satisfied: protobuf>=3.4.0 in /Users/andre/code/covid/venv/lib/python3.7/site-packages (from google-api-core<2.0.0dev,>=1.16.0->google-cloud-core<2.0dev,>=1.2.0->google-cloud-storage->smart_open->-r requirements.txt (line 1)) (3.11.3)\nrunning build_ext\ncopying build/lib.macosx-10.14-x86_64-3.7/covidsimulation/simulation.cpython-37m-darwin.so -> covidsimulation\nrunning install\nrunning bdist_egg\nrunning egg_info\nwriting covidsimulation.egg-info/PKG-INFO\nwriting dependency_links to covidsimulation.egg-info/dependency_links.txt\nwriting top-level names to covidsimulation.egg-info/top_level.txt\nreading manifest file 'covidsimulation.egg-info/SOURCES.txt'\nwriting manifest file 'covidsimulation.egg-info/SOURCES.txt'\ninstalling library code to build/bdist.macosx-10.14-x86_64/egg\nrunning install_lib\nrunning build_py\ncopying covidsimulation/cache.py -> build/lib.macosx-10.14-x86_64-3.7/covidsimulation\ncopying covidsimulation/simulation_engine.py -> build/lib.macosx-10.14-x86_64-3.7/covidsimulation\nrunning build_ext\ncreating build/bdist.macosx-10.14-x86_64/egg\ncreating build/bdist.macosx-10.14-x86_64/egg/covidsimulation\ncopying build/lib.macosx-10.14-x86_64-3.7/covidsimulation/metrics.py -> build/bdist.macosx-10.14-x86_64/egg/covidsimulation\ncopying build/lib.macosx-10.14-x86_64-3.7/covidsimulation/callibrate.py -> build/bdist.macosx-10.14-x86_64/egg/covidsimulation\ncreating build/bdist.macosx-10.14-x86_64/egg/covidsimulation/regions\ncopying build/lib.macosx-10.14-x86_64-3.7/covidsimulation/regions/br_saopaulo.py -> build/bdist.macosx-10.14-x86_64/egg/covidsimulation/regions\ncopying build/lib.macosx-10.14-x86_64-3.7/covidsimulation/regions/__init__.py -> build/bdist.macosx-10.14-x86_64/egg/covidsimulation/regions\ncopying build/lib.macosx-10.14-x86_64-3.7/covidsimulation/regions/br_riodejaneiro.py -> build/bdist.macosx-10.14-x86_64/egg/covidsimulation/regions\ncopying build/lib.macosx-10.14-x86_64-3.7/covidsimulation/plot.py -> build/bdist.macosx-10.14-x86_64/egg/covidsimulation\ncopying build/lib.macosx-10.14-x86_64-3.7/covidsimulation/age_group.py -> build/bdist.macosx-10.14-x86_64/egg/covidsimulation\ncopying build/lib.macosx-10.14-x86_64-3.7/covidsimulation/population.py -> build/bdist.macosx-10.14-x86_64/egg/covidsimulation\ncopying build/lib.macosx-10.14-x86_64-3.7/covidsimulation/cache.py -> build/bdist.macosx-10.14-x86_64/egg/covidsimulation\ncopying build/lib.macosx-10.14-x86_64-3.7/covidsimulation/__init__.py -> build/bdist.macosx-10.14-x86_64/egg/covidsimulation\ncopying build/lib.macosx-10.14-x86_64-3.7/covidsimulation/disease_parameters.py -> build/bdist.macosx-10.14-x86_64/egg/covidsimulation\ncopying build/lib.macosx-10.14-x86_64-3.7/covidsimulation/simulation_engine.py -> build/bdist.macosx-10.14-x86_64/egg/covidsimulation\ncopying build/lib.macosx-10.14-x86_64-3.7/covidsimulation/stats.py -> build/bdist.macosx-10.14-x86_64/egg/covidsimulation\ncopying build/lib.macosx-10.14-x86_64-3.7/covidsimulation/simulation.cpython-37m-darwin.so -> build/bdist.macosx-10.14-x86_64/egg/covidsimulation\ncopying build/lib.macosx-10.14-x86_64-3.7/covidsimulation/parameters.py -> build/bdist.macosx-10.14-x86_64/egg/covidsimulation\ncopying build/lib.macosx-10.14-x86_64-3.7/covidsimulation/lab.py -> build/bdist.macosx-10.14-x86_64/egg/covidsimulation\ncreating build/bdist.macosx-10.14-x86_64/egg/examples\ncopying build/lib.macosx-10.14-x86_64-3.7/examples/__init__.py -> build/bdist.macosx-10.14-x86_64/egg/examples\nbyte-compiling build/bdist.macosx-10.14-x86_64/egg/covidsimulation/metrics.py to metrics.cpython-37.pyc\nbyte-compiling build/bdist.macosx-10.14-x86_64/egg/covidsimulation/callibrate.py to callibrate.cpython-37.pyc\nbyte-compiling build/bdist.macosx-10.14-x86_64/egg/covidsimulation/regions/br_saopaulo.py to br_saopaulo.cpython-37.pyc\nbyte-compiling build/bdist.macosx-10.14-x86_64/egg/covidsimulation/regions/__init__.py to __init__.cpython-37.pyc\nbyte-compiling build/bdist.macosx-10.14-x86_64/egg/covidsimulation/regions/br_riodejaneiro.py to br_riodejaneiro.cpython-37.pyc\nbyte-compiling build/bdist.macosx-10.14-x86_64/egg/covidsimulation/plot.py to plot.cpython-37.pyc\nbyte-compiling build/bdist.macosx-10.14-x86_64/egg/covidsimulation/age_group.py to age_group.cpython-37.pyc\nbyte-compiling build/bdist.macosx-10.14-x86_64/egg/covidsimulation/population.py to population.cpython-37.pyc\nbyte-compiling build/bdist.macosx-10.14-x86_64/egg/covidsimulation/cache.py to cache.cpython-37.pyc\nbyte-compiling build/bdist.macosx-10.14-x86_64/egg/covidsimulation/__init__.py to __init__.cpython-37.pyc\nbyte-compiling build/bdist.macosx-10.14-x86_64/egg/covidsimulation/disease_parameters.py to disease_parameters.cpython-37.pyc\nbyte-compiling build/bdist.macosx-10.14-x86_64/egg/covidsimulation/simulation_engine.py to simulation_engine.cpython-37.pyc\nbyte-compiling build/bdist.macosx-10.14-x86_64/egg/covidsimulation/stats.py to stats.cpython-37.pyc\nbyte-compiling build/bdist.macosx-10.14-x86_64/egg/covidsimulation/parameters.py to parameters.cpython-37.pyc\nbyte-compiling build/bdist.macosx-10.14-x86_64/egg/covidsimulation/lab.py to lab.cpython-37.pyc\nbyte-compiling build/bdist.macosx-10.14-x86_64/egg/examples/__init__.py to __init__.cpython-37.pyc\ncreating stub loader for covidsimulation/simulation.cpython-37m-darwin.so\nbyte-compiling build/bdist.macosx-10.14-x86_64/egg/covidsimulation/simulation.py to simulation.cpython-37.pyc\ncreating build/bdist.macosx-10.14-x86_64/egg/EGG-INFO\ncopying covidsimulation.egg-info/PKG-INFO -> build/bdist.macosx-10.14-x86_64/egg/EGG-INFO\ncopying covidsimulation.egg-info/SOURCES.txt -> build/bdist.macosx-10.14-x86_64/egg/EGG-INFO\ncopying covidsimulation.egg-info/dependency_links.txt -> build/bdist.macosx-10.14-x86_64/egg/EGG-INFO\ncopying covidsimulation.egg-info/top_level.txt -> build/bdist.macosx-10.14-x86_64/egg/EGG-INFO\nwriting build/bdist.macosx-10.14-x86_64/egg/EGG-INFO/native_libs.txt\nzip_safe flag not set; analyzing archive contents...\ncovidsimulation.__pycache__.simulation.cpython-37: module references __file__\ncreating 'dist/covidsimulation-0.0.1-py3.7-macosx-10.14-x86_64.egg' and adding 'build/bdist.macosx-10.14-x86_64/egg' to it\nremoving 'build/bdist.macosx-10.14-x86_64/egg' (and everything under it)\nProcessing covidsimulation-0.0.1-py3.7-macosx-10.14-x86_64.egg\nremoving '/Users/andre/code/covid/venv/lib/python3.7/site-packages/covidsimulation-0.0.1-py3.7-macosx-10.14-x86_64.egg' (and everything under it)\ncreating /Users/andre/code/covid/venv/lib/python3.7/site-packages/covidsimulation-0.0.1-py3.7-macosx-10.14-x86_64.egg\nExtracting covidsimulation-0.0.1-py3.7-macosx-10.14-x86_64.egg to /Users/andre/code/covid/venv/lib/python3.7/site-packages\ncovidsimulation 0.0.1 is already the active version in easy-install.pth\n\nInstalled /Users/andre/code/covid/venv/lib/python3.7/site-packages/covidsimulation-0.0.1-py3.7-macosx-10.14-x86_64.egg\nProcessing dependencies for covidsimulation==0.0.1\nFinished processing dependencies for covidsimulation==0.0.1\n"
    }
   ],
   "source": [
    "! ./setup.sh"
   ]
  },
  {
   "cell_type": "code",
   "execution_count": 2,
   "metadata": {},
   "outputs": [],
   "source": [
    "%matplotlib inline"
   ]
  },
  {
   "cell_type": "code",
   "execution_count": 3,
   "metadata": {},
   "outputs": [],
   "source": [
    "from covidsimulation.regions.br_saopaulo import params as br_saopaulo_params\n",
    "from covidsimulation import run_simulations, plot, Stats\n",
    "from tqdm import tqdm\n",
    "\n",
    "stats = run_simulations(\n",
    "    sim_params=br_saopaulo_params, \n",
    "    distancing_list=[], \n",
    "    simulate_capacity=False, \n",
    "    duration=20, \n",
    "    number_of_simulations=4, \n",
    "    simulation_size=20000, \n",
    "    fpath='saved/teste.pkl',\n",
    "    tqdm=None,\n",
    "    )"
   ]
  },
  {
   "cell_type": "code",
   "execution_count": 4,
   "metadata": {},
   "outputs": [
    {
     "output_type": "display_data",
     "data": {
      "application/vnd.plotly.v1+json": {
       "config": {
        "plotlyServerURL": "https://plot.ly"
       },
       "data": [
        {
         "fill": "toself",
         "fillcolor": "rgba(0,0,255,0.25)",
         "line": {
          "color": "rgba(0,0,255,0.25)"
         },
         "name": "Total",
         "showlegend": false,
         "type": "scatter",
         "x": [
          "2020-03-13T00:00:00",
          "2020-03-14T00:00:00",
          "2020-03-15T00:00:00",
          "2020-03-16T00:00:00",
          "2020-03-17T00:00:00",
          "2020-03-18T00:00:00",
          "2020-03-19T00:00:00",
          "2020-03-20T00:00:00",
          "2020-03-21T00:00:00",
          "2020-03-22T00:00:00",
          "2020-03-23T00:00:00",
          "2020-03-24T00:00:00",
          "2020-03-25T00:00:00",
          "2020-03-26T00:00:00",
          "2020-03-27T00:00:00",
          "2020-03-28T00:00:00",
          "2020-03-29T00:00:00",
          "2020-03-30T00:00:00",
          "2020-03-31T00:00:00",
          "2020-04-01T00:00:00",
          "2020-04-01T00:00:00",
          "2020-03-31T00:00:00",
          "2020-03-30T00:00:00",
          "2020-03-29T00:00:00",
          "2020-03-28T00:00:00",
          "2020-03-27T00:00:00",
          "2020-03-26T00:00:00",
          "2020-03-25T00:00:00",
          "2020-03-24T00:00:00",
          "2020-03-23T00:00:00",
          "2020-03-22T00:00:00",
          "2020-03-21T00:00:00",
          "2020-03-20T00:00:00",
          "2020-03-19T00:00:00",
          "2020-03-18T00:00:00",
          "2020-03-17T00:00:00",
          "2020-03-16T00:00:00",
          "2020-03-15T00:00:00",
          "2020-03-14T00:00:00",
          "2020-03-13T00:00:00"
         ],
         "y": [
          34600,
          46400,
          69400,
          88400,
          120800,
          157600,
          215600,
          303000,
          419600,
          554200,
          733800,
          967400,
          1253800,
          1611200.0000000002,
          2071200,
          2558600,
          3135600,
          3723000,
          4330000,
          4990600,
          4062800,
          3480600,
          2880200,
          2383200,
          1942800,
          1565000,
          1251400,
          975000,
          747400,
          580000,
          456800,
          350800,
          268400,
          184400,
          140200,
          103400,
          73200,
          55600,
          37000,
          24600
         ]
        },
        {
         "line": {
          "color": "rgba(0,0,255,1)"
         },
         "name": "Total",
         "type": "scatter",
         "x": [
          "2020-03-13T00:00:00",
          "2020-03-14T00:00:00",
          "2020-03-15T00:00:00",
          "2020-03-16T00:00:00",
          "2020-03-17T00:00:00",
          "2020-03-18T00:00:00",
          "2020-03-19T00:00:00",
          "2020-03-20T00:00:00",
          "2020-03-21T00:00:00",
          "2020-03-22T00:00:00",
          "2020-03-23T00:00:00",
          "2020-03-24T00:00:00",
          "2020-03-25T00:00:00",
          "2020-03-26T00:00:00",
          "2020-03-27T00:00:00",
          "2020-03-28T00:00:00",
          "2020-03-29T00:00:00",
          "2020-03-30T00:00:00",
          "2020-03-31T00:00:00",
          "2020-04-01T00:00:00"
         ],
         "y": [
          30000,
          42250,
          62250,
          80000,
          111500,
          148750,
          201000,
          285750,
          384500,
          507000,
          659500,
          863000,
          1121250,
          1443000,
          1834500,
          2266000,
          2779750,
          3327500,
          3934750,
          4563250
         ]
        },
        {
         "fill": "toself",
         "fillcolor": "rgba(255,0,0,0.25)",
         "line": {
          "color": "rgba(255,0,0,0.25)"
         },
         "name": "30-39",
         "showlegend": false,
         "type": "scatter",
         "x": [
          "2020-03-13T00:00:00",
          "2020-03-14T00:00:00",
          "2020-03-15T00:00:00",
          "2020-03-16T00:00:00",
          "2020-03-17T00:00:00",
          "2020-03-18T00:00:00",
          "2020-03-19T00:00:00",
          "2020-03-20T00:00:00",
          "2020-03-21T00:00:00",
          "2020-03-22T00:00:00",
          "2020-03-23T00:00:00",
          "2020-03-24T00:00:00",
          "2020-03-25T00:00:00",
          "2020-03-26T00:00:00",
          "2020-03-27T00:00:00",
          "2020-03-28T00:00:00",
          "2020-03-29T00:00:00",
          "2020-03-30T00:00:00",
          "2020-03-31T00:00:00",
          "2020-04-01T00:00:00",
          "2020-04-01T00:00:00",
          "2020-03-31T00:00:00",
          "2020-03-30T00:00:00",
          "2020-03-29T00:00:00",
          "2020-03-28T00:00:00",
          "2020-03-27T00:00:00",
          "2020-03-26T00:00:00",
          "2020-03-25T00:00:00",
          "2020-03-24T00:00:00",
          "2020-03-23T00:00:00",
          "2020-03-22T00:00:00",
          "2020-03-21T00:00:00",
          "2020-03-20T00:00:00",
          "2020-03-19T00:00:00",
          "2020-03-18T00:00:00",
          "2020-03-17T00:00:00",
          "2020-03-16T00:00:00",
          "2020-03-15T00:00:00",
          "2020-03-14T00:00:00",
          "2020-03-13T00:00:00"
         ],
         "y": [
          3800.000000000001,
          7800,
          11400,
          16000,
          21800,
          26800,
          36000,
          50000,
          69000,
          94200,
          121400.00000000001,
          162600,
          211600,
          278600,
          370400,
          459800.00000000006,
          566800,
          675400,
          775600,
          878600,
          750800,
          645200,
          528600,
          432200,
          358200,
          296000,
          238400,
          183200,
          140200,
          102400,
          77800,
          61000,
          39000,
          29800,
          20800,
          12800,
          11000,
          7200.000000000001,
          4000.0000000000005,
          2200
         ]
        },
        {
         "line": {
          "color": "rgba(255,0,0,1)"
         },
         "name": "30-39",
         "type": "scatter",
         "x": [
          "2020-03-13T00:00:00",
          "2020-03-14T00:00:00",
          "2020-03-15T00:00:00",
          "2020-03-16T00:00:00",
          "2020-03-17T00:00:00",
          "2020-03-18T00:00:00",
          "2020-03-19T00:00:00",
          "2020-03-20T00:00:00",
          "2020-03-21T00:00:00",
          "2020-03-22T00:00:00",
          "2020-03-23T00:00:00",
          "2020-03-24T00:00:00",
          "2020-03-25T00:00:00",
          "2020-03-26T00:00:00",
          "2020-03-27T00:00:00",
          "2020-03-28T00:00:00",
          "2020-03-29T00:00:00",
          "2020-03-30T00:00:00",
          "2020-03-31T00:00:00",
          "2020-04-01T00:00:00"
         ],
         "y": [
          3000,
          5750,
          9000,
          13250,
          17250,
          23750,
          33250,
          44500,
          65750,
          87250,
          113000,
          153000,
          199750,
          261250,
          337750,
          413750,
          505000,
          609250,
          717750,
          822500
         ]
        }
       ],
       "layout": {
        "template": {
         "data": {
          "bar": [
           {
            "error_x": {
             "color": "#2a3f5f"
            },
            "error_y": {
             "color": "#2a3f5f"
            },
            "marker": {
             "line": {
              "color": "#E5ECF6",
              "width": 0.5
             }
            },
            "type": "bar"
           }
          ],
          "barpolar": [
           {
            "marker": {
             "line": {
              "color": "#E5ECF6",
              "width": 0.5
             }
            },
            "type": "barpolar"
           }
          ],
          "carpet": [
           {
            "aaxis": {
             "endlinecolor": "#2a3f5f",
             "gridcolor": "white",
             "linecolor": "white",
             "minorgridcolor": "white",
             "startlinecolor": "#2a3f5f"
            },
            "baxis": {
             "endlinecolor": "#2a3f5f",
             "gridcolor": "white",
             "linecolor": "white",
             "minorgridcolor": "white",
             "startlinecolor": "#2a3f5f"
            },
            "type": "carpet"
           }
          ],
          "choropleth": [
           {
            "colorbar": {
             "outlinewidth": 0,
             "ticks": ""
            },
            "type": "choropleth"
           }
          ],
          "contour": [
           {
            "colorbar": {
             "outlinewidth": 0,
             "ticks": ""
            },
            "colorscale": [
             [
              0,
              "#0d0887"
             ],
             [
              0.1111111111111111,
              "#46039f"
             ],
             [
              0.2222222222222222,
              "#7201a8"
             ],
             [
              0.3333333333333333,
              "#9c179e"
             ],
             [
              0.4444444444444444,
              "#bd3786"
             ],
             [
              0.5555555555555556,
              "#d8576b"
             ],
             [
              0.6666666666666666,
              "#ed7953"
             ],
             [
              0.7777777777777778,
              "#fb9f3a"
             ],
             [
              0.8888888888888888,
              "#fdca26"
             ],
             [
              1,
              "#f0f921"
             ]
            ],
            "type": "contour"
           }
          ],
          "contourcarpet": [
           {
            "colorbar": {
             "outlinewidth": 0,
             "ticks": ""
            },
            "type": "contourcarpet"
           }
          ],
          "heatmap": [
           {
            "colorbar": {
             "outlinewidth": 0,
             "ticks": ""
            },
            "colorscale": [
             [
              0,
              "#0d0887"
             ],
             [
              0.1111111111111111,
              "#46039f"
             ],
             [
              0.2222222222222222,
              "#7201a8"
             ],
             [
              0.3333333333333333,
              "#9c179e"
             ],
             [
              0.4444444444444444,
              "#bd3786"
             ],
             [
              0.5555555555555556,
              "#d8576b"
             ],
             [
              0.6666666666666666,
              "#ed7953"
             ],
             [
              0.7777777777777778,
              "#fb9f3a"
             ],
             [
              0.8888888888888888,
              "#fdca26"
             ],
             [
              1,
              "#f0f921"
             ]
            ],
            "type": "heatmap"
           }
          ],
          "heatmapgl": [
           {
            "colorbar": {
             "outlinewidth": 0,
             "ticks": ""
            },
            "colorscale": [
             [
              0,
              "#0d0887"
             ],
             [
              0.1111111111111111,
              "#46039f"
             ],
             [
              0.2222222222222222,
              "#7201a8"
             ],
             [
              0.3333333333333333,
              "#9c179e"
             ],
             [
              0.4444444444444444,
              "#bd3786"
             ],
             [
              0.5555555555555556,
              "#d8576b"
             ],
             [
              0.6666666666666666,
              "#ed7953"
             ],
             [
              0.7777777777777778,
              "#fb9f3a"
             ],
             [
              0.8888888888888888,
              "#fdca26"
             ],
             [
              1,
              "#f0f921"
             ]
            ],
            "type": "heatmapgl"
           }
          ],
          "histogram": [
           {
            "marker": {
             "colorbar": {
              "outlinewidth": 0,
              "ticks": ""
             }
            },
            "type": "histogram"
           }
          ],
          "histogram2d": [
           {
            "colorbar": {
             "outlinewidth": 0,
             "ticks": ""
            },
            "colorscale": [
             [
              0,
              "#0d0887"
             ],
             [
              0.1111111111111111,
              "#46039f"
             ],
             [
              0.2222222222222222,
              "#7201a8"
             ],
             [
              0.3333333333333333,
              "#9c179e"
             ],
             [
              0.4444444444444444,
              "#bd3786"
             ],
             [
              0.5555555555555556,
              "#d8576b"
             ],
             [
              0.6666666666666666,
              "#ed7953"
             ],
             [
              0.7777777777777778,
              "#fb9f3a"
             ],
             [
              0.8888888888888888,
              "#fdca26"
             ],
             [
              1,
              "#f0f921"
             ]
            ],
            "type": "histogram2d"
           }
          ],
          "histogram2dcontour": [
           {
            "colorbar": {
             "outlinewidth": 0,
             "ticks": ""
            },
            "colorscale": [
             [
              0,
              "#0d0887"
             ],
             [
              0.1111111111111111,
              "#46039f"
             ],
             [
              0.2222222222222222,
              "#7201a8"
             ],
             [
              0.3333333333333333,
              "#9c179e"
             ],
             [
              0.4444444444444444,
              "#bd3786"
             ],
             [
              0.5555555555555556,
              "#d8576b"
             ],
             [
              0.6666666666666666,
              "#ed7953"
             ],
             [
              0.7777777777777778,
              "#fb9f3a"
             ],
             [
              0.8888888888888888,
              "#fdca26"
             ],
             [
              1,
              "#f0f921"
             ]
            ],
            "type": "histogram2dcontour"
           }
          ],
          "mesh3d": [
           {
            "colorbar": {
             "outlinewidth": 0,
             "ticks": ""
            },
            "type": "mesh3d"
           }
          ],
          "parcoords": [
           {
            "line": {
             "colorbar": {
              "outlinewidth": 0,
              "ticks": ""
             }
            },
            "type": "parcoords"
           }
          ],
          "pie": [
           {
            "automargin": true,
            "type": "pie"
           }
          ],
          "scatter": [
           {
            "marker": {
             "colorbar": {
              "outlinewidth": 0,
              "ticks": ""
             }
            },
            "type": "scatter"
           }
          ],
          "scatter3d": [
           {
            "line": {
             "colorbar": {
              "outlinewidth": 0,
              "ticks": ""
             }
            },
            "marker": {
             "colorbar": {
              "outlinewidth": 0,
              "ticks": ""
             }
            },
            "type": "scatter3d"
           }
          ],
          "scattercarpet": [
           {
            "marker": {
             "colorbar": {
              "outlinewidth": 0,
              "ticks": ""
             }
            },
            "type": "scattercarpet"
           }
          ],
          "scattergeo": [
           {
            "marker": {
             "colorbar": {
              "outlinewidth": 0,
              "ticks": ""
             }
            },
            "type": "scattergeo"
           }
          ],
          "scattergl": [
           {
            "marker": {
             "colorbar": {
              "outlinewidth": 0,
              "ticks": ""
             }
            },
            "type": "scattergl"
           }
          ],
          "scattermapbox": [
           {
            "marker": {
             "colorbar": {
              "outlinewidth": 0,
              "ticks": ""
             }
            },
            "type": "scattermapbox"
           }
          ],
          "scatterpolar": [
           {
            "marker": {
             "colorbar": {
              "outlinewidth": 0,
              "ticks": ""
             }
            },
            "type": "scatterpolar"
           }
          ],
          "scatterpolargl": [
           {
            "marker": {
             "colorbar": {
              "outlinewidth": 0,
              "ticks": ""
             }
            },
            "type": "scatterpolargl"
           }
          ],
          "scatterternary": [
           {
            "marker": {
             "colorbar": {
              "outlinewidth": 0,
              "ticks": ""
             }
            },
            "type": "scatterternary"
           }
          ],
          "surface": [
           {
            "colorbar": {
             "outlinewidth": 0,
             "ticks": ""
            },
            "colorscale": [
             [
              0,
              "#0d0887"
             ],
             [
              0.1111111111111111,
              "#46039f"
             ],
             [
              0.2222222222222222,
              "#7201a8"
             ],
             [
              0.3333333333333333,
              "#9c179e"
             ],
             [
              0.4444444444444444,
              "#bd3786"
             ],
             [
              0.5555555555555556,
              "#d8576b"
             ],
             [
              0.6666666666666666,
              "#ed7953"
             ],
             [
              0.7777777777777778,
              "#fb9f3a"
             ],
             [
              0.8888888888888888,
              "#fdca26"
             ],
             [
              1,
              "#f0f921"
             ]
            ],
            "type": "surface"
           }
          ],
          "table": [
           {
            "cells": {
             "fill": {
              "color": "#EBF0F8"
             },
             "line": {
              "color": "white"
             }
            },
            "header": {
             "fill": {
              "color": "#C8D4E3"
             },
             "line": {
              "color": "white"
             }
            },
            "type": "table"
           }
          ]
         },
         "layout": {
          "annotationdefaults": {
           "arrowcolor": "#2a3f5f",
           "arrowhead": 0,
           "arrowwidth": 1
          },
          "coloraxis": {
           "colorbar": {
            "outlinewidth": 0,
            "ticks": ""
           }
          },
          "colorscale": {
           "diverging": [
            [
             0,
             "#8e0152"
            ],
            [
             0.1,
             "#c51b7d"
            ],
            [
             0.2,
             "#de77ae"
            ],
            [
             0.3,
             "#f1b6da"
            ],
            [
             0.4,
             "#fde0ef"
            ],
            [
             0.5,
             "#f7f7f7"
            ],
            [
             0.6,
             "#e6f5d0"
            ],
            [
             0.7,
             "#b8e186"
            ],
            [
             0.8,
             "#7fbc41"
            ],
            [
             0.9,
             "#4d9221"
            ],
            [
             1,
             "#276419"
            ]
           ],
           "sequential": [
            [
             0,
             "#0d0887"
            ],
            [
             0.1111111111111111,
             "#46039f"
            ],
            [
             0.2222222222222222,
             "#7201a8"
            ],
            [
             0.3333333333333333,
             "#9c179e"
            ],
            [
             0.4444444444444444,
             "#bd3786"
            ],
            [
             0.5555555555555556,
             "#d8576b"
            ],
            [
             0.6666666666666666,
             "#ed7953"
            ],
            [
             0.7777777777777778,
             "#fb9f3a"
            ],
            [
             0.8888888888888888,
             "#fdca26"
            ],
            [
             1,
             "#f0f921"
            ]
           ],
           "sequentialminus": [
            [
             0,
             "#0d0887"
            ],
            [
             0.1111111111111111,
             "#46039f"
            ],
            [
             0.2222222222222222,
             "#7201a8"
            ],
            [
             0.3333333333333333,
             "#9c179e"
            ],
            [
             0.4444444444444444,
             "#bd3786"
            ],
            [
             0.5555555555555556,
             "#d8576b"
            ],
            [
             0.6666666666666666,
             "#ed7953"
            ],
            [
             0.7777777777777778,
             "#fb9f3a"
            ],
            [
             0.8888888888888888,
             "#fdca26"
            ],
            [
             1,
             "#f0f921"
            ]
           ]
          },
          "colorway": [
           "#636efa",
           "#EF553B",
           "#00cc96",
           "#ab63fa",
           "#FFA15A",
           "#19d3f3",
           "#FF6692",
           "#B6E880",
           "#FF97FF",
           "#FECB52"
          ],
          "font": {
           "color": "#2a3f5f"
          },
          "geo": {
           "bgcolor": "white",
           "lakecolor": "white",
           "landcolor": "#E5ECF6",
           "showlakes": true,
           "showland": true,
           "subunitcolor": "white"
          },
          "hoverlabel": {
           "align": "left"
          },
          "hovermode": "closest",
          "mapbox": {
           "style": "light"
          },
          "paper_bgcolor": "white",
          "plot_bgcolor": "#E5ECF6",
          "polar": {
           "angularaxis": {
            "gridcolor": "white",
            "linecolor": "white",
            "ticks": ""
           },
           "bgcolor": "#E5ECF6",
           "radialaxis": {
            "gridcolor": "white",
            "linecolor": "white",
            "ticks": ""
           }
          },
          "scene": {
           "xaxis": {
            "backgroundcolor": "#E5ECF6",
            "gridcolor": "white",
            "gridwidth": 2,
            "linecolor": "white",
            "showbackground": true,
            "ticks": "",
            "zerolinecolor": "white"
           },
           "yaxis": {
            "backgroundcolor": "#E5ECF6",
            "gridcolor": "white",
            "gridwidth": 2,
            "linecolor": "white",
            "showbackground": true,
            "ticks": "",
            "zerolinecolor": "white"
           },
           "zaxis": {
            "backgroundcolor": "#E5ECF6",
            "gridcolor": "white",
            "gridwidth": 2,
            "linecolor": "white",
            "showbackground": true,
            "ticks": "",
            "zerolinecolor": "white"
           }
          },
          "shapedefaults": {
           "line": {
            "color": "#2a3f5f"
           }
          },
          "ternary": {
           "aaxis": {
            "gridcolor": "white",
            "linecolor": "white",
            "ticks": ""
           },
           "baxis": {
            "gridcolor": "white",
            "linecolor": "white",
            "ticks": ""
           },
           "bgcolor": "#E5ECF6",
           "caxis": {
            "gridcolor": "white",
            "linecolor": "white",
            "ticks": ""
           }
          },
          "title": {
           "x": 0.05
          },
          "xaxis": {
           "automargin": true,
           "gridcolor": "white",
           "linecolor": "white",
           "ticks": "",
           "title": {
            "standoff": 15
           },
           "zerolinecolor": "white",
           "zerolinewidth": 2
          },
          "yaxis": {
           "automargin": true,
           "gridcolor": "white",
           "linecolor": "white",
           "ticks": "",
           "title": {
            "standoff": 15
           },
           "zerolinecolor": "white",
           "zerolinewidth": 2
          }
         }
        },
        "title": {
         "text": "Infected"
        }
       }
      }
     },
     "metadata": {}
    }
   ],
   "source": [
    "plot([\n",
    "        (stats.get_metric('infected'), 'Total'),\n",
    "        (stats.get_metric('infected', None, '30-39'), '30-39'),\n",
    "    ], 'Infected', False, stop=90)\n",
    ""
   ]
  },
  {
   "cell_type": "code",
   "execution_count": 5,
   "metadata": {},
   "outputs": [],
   "source": [
    "saved_stats = Stats.load('saved/teste')"
   ]
  },
  {
   "cell_type": "code",
   "execution_count": 6,
   "metadata": {},
   "outputs": [],
   "source": [
    "\n",
    "stats_isolation = run_simulations(\n",
    "    sim_params=br_saopaulo_params, \n",
    "    simulate_capacity=False, \n",
    "    duration=20, \n",
    "    number_of_simulations=2, \n",
    "    simulation_size=20000, \n",
    "    fpath='saved/isolated.pkl',\n",
    "    )"
   ]
  },
  {
   "cell_type": "code",
   "execution_count": 7,
   "metadata": {},
   "outputs": [
    {
     "output_type": "display_data",
     "data": {
      "application/vnd.plotly.v1+json": {
       "config": {
        "plotlyServerURL": "https://plot.ly"
       },
       "data": [
        {
         "fill": "toself",
         "fillcolor": "rgba(0,0,255,0.25)",
         "line": {
          "color": "rgba(0,0,255,0.25)"
         },
         "name": "Nothing done",
         "showlegend": false,
         "type": "scatter",
         "x": [
          "2020-03-13T00:00:00",
          "2020-03-14T00:00:00",
          "2020-03-15T00:00:00",
          "2020-03-16T00:00:00",
          "2020-03-17T00:00:00",
          "2020-03-18T00:00:00",
          "2020-03-19T00:00:00",
          "2020-03-20T00:00:00",
          "2020-03-21T00:00:00",
          "2020-03-22T00:00:00",
          "2020-03-23T00:00:00",
          "2020-03-24T00:00:00",
          "2020-03-25T00:00:00",
          "2020-03-26T00:00:00",
          "2020-03-27T00:00:00",
          "2020-03-28T00:00:00",
          "2020-03-29T00:00:00",
          "2020-03-30T00:00:00",
          "2020-03-31T00:00:00",
          "2020-04-01T00:00:00",
          "2020-04-01T00:00:00",
          "2020-03-31T00:00:00",
          "2020-03-30T00:00:00",
          "2020-03-29T00:00:00",
          "2020-03-28T00:00:00",
          "2020-03-27T00:00:00",
          "2020-03-26T00:00:00",
          "2020-03-25T00:00:00",
          "2020-03-24T00:00:00",
          "2020-03-23T00:00:00",
          "2020-03-22T00:00:00",
          "2020-03-21T00:00:00",
          "2020-03-20T00:00:00",
          "2020-03-19T00:00:00",
          "2020-03-18T00:00:00",
          "2020-03-17T00:00:00",
          "2020-03-16T00:00:00",
          "2020-03-15T00:00:00",
          "2020-03-14T00:00:00",
          "2020-03-13T00:00:00"
         ],
         "y": [
          34600,
          46400,
          69400,
          88400,
          120800,
          157600,
          215600,
          303000,
          419600,
          554200,
          733800,
          967400,
          1253800,
          1611200.0000000002,
          2071200,
          2558600,
          3135600,
          3723000,
          4330000,
          4990600,
          4062800,
          3480600,
          2880200,
          2383200,
          1942800,
          1565000,
          1251400,
          975000,
          747400,
          580000,
          456800,
          350800,
          268400,
          184400,
          140200,
          103400,
          73200,
          55600,
          37000,
          24600
         ]
        },
        {
         "line": {
          "color": "rgba(0,0,255,1)"
         },
         "name": "Nothing done",
         "type": "scatter",
         "x": [
          "2020-03-13T00:00:00",
          "2020-03-14T00:00:00",
          "2020-03-15T00:00:00",
          "2020-03-16T00:00:00",
          "2020-03-17T00:00:00",
          "2020-03-18T00:00:00",
          "2020-03-19T00:00:00",
          "2020-03-20T00:00:00",
          "2020-03-21T00:00:00",
          "2020-03-22T00:00:00",
          "2020-03-23T00:00:00",
          "2020-03-24T00:00:00",
          "2020-03-25T00:00:00",
          "2020-03-26T00:00:00",
          "2020-03-27T00:00:00",
          "2020-03-28T00:00:00",
          "2020-03-29T00:00:00",
          "2020-03-30T00:00:00",
          "2020-03-31T00:00:00",
          "2020-04-01T00:00:00"
         ],
         "y": [
          30000,
          42250,
          62250,
          80000,
          111500,
          148750,
          201000,
          285750,
          384500,
          507000,
          659500,
          863000,
          1121250,
          1443000,
          1834500,
          2266000,
          2779750,
          3327500,
          3934750,
          4563250
         ]
        },
        {
         "fill": "toself",
         "fillcolor": "rgba(255,0,0,0.25)",
         "line": {
          "color": "rgba(255,0,0,0.25)"
         },
         "name": "Social distancing",
         "showlegend": false,
         "type": "scatter",
         "x": [
          "2020-03-13T00:00:00",
          "2020-03-14T00:00:00",
          "2020-03-15T00:00:00",
          "2020-03-16T00:00:00",
          "2020-03-17T00:00:00",
          "2020-03-18T00:00:00",
          "2020-03-19T00:00:00",
          "2020-03-20T00:00:00",
          "2020-03-21T00:00:00",
          "2020-03-22T00:00:00",
          "2020-03-23T00:00:00",
          "2020-03-24T00:00:00",
          "2020-03-25T00:00:00",
          "2020-03-26T00:00:00",
          "2020-03-27T00:00:00",
          "2020-03-28T00:00:00",
          "2020-03-29T00:00:00",
          "2020-03-30T00:00:00",
          "2020-03-31T00:00:00",
          "2020-04-01T00:00:00",
          "2020-04-01T00:00:00",
          "2020-03-31T00:00:00",
          "2020-03-30T00:00:00",
          "2020-03-29T00:00:00",
          "2020-03-28T00:00:00",
          "2020-03-27T00:00:00",
          "2020-03-26T00:00:00",
          "2020-03-25T00:00:00",
          "2020-03-24T00:00:00",
          "2020-03-23T00:00:00",
          "2020-03-22T00:00:00",
          "2020-03-21T00:00:00",
          "2020-03-20T00:00:00",
          "2020-03-19T00:00:00",
          "2020-03-18T00:00:00",
          "2020-03-17T00:00:00",
          "2020-03-16T00:00:00",
          "2020-03-15T00:00:00",
          "2020-03-14T00:00:00",
          "2020-03-13T00:00:00"
         ],
         "y": [
          38200,
          53200,
          62400,
          72000,
          76800,
          86800,
          100800,
          123200,
          144600,
          166200,
          173600,
          185200,
          208400,
          223800,
          239000,
          260800,
          277200,
          305800,
          325000,
          350200,
          272800,
          259000,
          248200,
          232800,
          221200,
          209000,
          196200,
          182600,
          167800,
          160400,
          154800,
          134400,
          114800,
          94200,
          83200,
          76200,
          69000,
          54600,
          41800,
          32800
         ]
        },
        {
         "line": {
          "color": "rgba(255,0,0,1)"
         },
         "name": "Social distancing",
         "type": "scatter",
         "x": [
          "2020-03-13T00:00:00",
          "2020-03-14T00:00:00",
          "2020-03-15T00:00:00",
          "2020-03-16T00:00:00",
          "2020-03-17T00:00:00",
          "2020-03-18T00:00:00",
          "2020-03-19T00:00:00",
          "2020-03-20T00:00:00",
          "2020-03-21T00:00:00",
          "2020-03-22T00:00:00",
          "2020-03-23T00:00:00",
          "2020-03-24T00:00:00",
          "2020-03-25T00:00:00",
          "2020-03-26T00:00:00",
          "2020-03-27T00:00:00",
          "2020-03-28T00:00:00",
          "2020-03-29T00:00:00",
          "2020-03-30T00:00:00",
          "2020-03-31T00:00:00",
          "2020-04-01T00:00:00"
         ],
         "y": [
          35500,
          47500,
          58500,
          70500,
          76500,
          85000,
          97500,
          119000,
          139500,
          160500,
          167000,
          176500,
          195500,
          210000,
          224000,
          241000,
          255000,
          277000,
          292000,
          311500
         ]
        }
       ],
       "layout": {
        "template": {
         "data": {
          "bar": [
           {
            "error_x": {
             "color": "#2a3f5f"
            },
            "error_y": {
             "color": "#2a3f5f"
            },
            "marker": {
             "line": {
              "color": "#E5ECF6",
              "width": 0.5
             }
            },
            "type": "bar"
           }
          ],
          "barpolar": [
           {
            "marker": {
             "line": {
              "color": "#E5ECF6",
              "width": 0.5
             }
            },
            "type": "barpolar"
           }
          ],
          "carpet": [
           {
            "aaxis": {
             "endlinecolor": "#2a3f5f",
             "gridcolor": "white",
             "linecolor": "white",
             "minorgridcolor": "white",
             "startlinecolor": "#2a3f5f"
            },
            "baxis": {
             "endlinecolor": "#2a3f5f",
             "gridcolor": "white",
             "linecolor": "white",
             "minorgridcolor": "white",
             "startlinecolor": "#2a3f5f"
            },
            "type": "carpet"
           }
          ],
          "choropleth": [
           {
            "colorbar": {
             "outlinewidth": 0,
             "ticks": ""
            },
            "type": "choropleth"
           }
          ],
          "contour": [
           {
            "colorbar": {
             "outlinewidth": 0,
             "ticks": ""
            },
            "colorscale": [
             [
              0,
              "#0d0887"
             ],
             [
              0.1111111111111111,
              "#46039f"
             ],
             [
              0.2222222222222222,
              "#7201a8"
             ],
             [
              0.3333333333333333,
              "#9c179e"
             ],
             [
              0.4444444444444444,
              "#bd3786"
             ],
             [
              0.5555555555555556,
              "#d8576b"
             ],
             [
              0.6666666666666666,
              "#ed7953"
             ],
             [
              0.7777777777777778,
              "#fb9f3a"
             ],
             [
              0.8888888888888888,
              "#fdca26"
             ],
             [
              1,
              "#f0f921"
             ]
            ],
            "type": "contour"
           }
          ],
          "contourcarpet": [
           {
            "colorbar": {
             "outlinewidth": 0,
             "ticks": ""
            },
            "type": "contourcarpet"
           }
          ],
          "heatmap": [
           {
            "colorbar": {
             "outlinewidth": 0,
             "ticks": ""
            },
            "colorscale": [
             [
              0,
              "#0d0887"
             ],
             [
              0.1111111111111111,
              "#46039f"
             ],
             [
              0.2222222222222222,
              "#7201a8"
             ],
             [
              0.3333333333333333,
              "#9c179e"
             ],
             [
              0.4444444444444444,
              "#bd3786"
             ],
             [
              0.5555555555555556,
              "#d8576b"
             ],
             [
              0.6666666666666666,
              "#ed7953"
             ],
             [
              0.7777777777777778,
              "#fb9f3a"
             ],
             [
              0.8888888888888888,
              "#fdca26"
             ],
             [
              1,
              "#f0f921"
             ]
            ],
            "type": "heatmap"
           }
          ],
          "heatmapgl": [
           {
            "colorbar": {
             "outlinewidth": 0,
             "ticks": ""
            },
            "colorscale": [
             [
              0,
              "#0d0887"
             ],
             [
              0.1111111111111111,
              "#46039f"
             ],
             [
              0.2222222222222222,
              "#7201a8"
             ],
             [
              0.3333333333333333,
              "#9c179e"
             ],
             [
              0.4444444444444444,
              "#bd3786"
             ],
             [
              0.5555555555555556,
              "#d8576b"
             ],
             [
              0.6666666666666666,
              "#ed7953"
             ],
             [
              0.7777777777777778,
              "#fb9f3a"
             ],
             [
              0.8888888888888888,
              "#fdca26"
             ],
             [
              1,
              "#f0f921"
             ]
            ],
            "type": "heatmapgl"
           }
          ],
          "histogram": [
           {
            "marker": {
             "colorbar": {
              "outlinewidth": 0,
              "ticks": ""
             }
            },
            "type": "histogram"
           }
          ],
          "histogram2d": [
           {
            "colorbar": {
             "outlinewidth": 0,
             "ticks": ""
            },
            "colorscale": [
             [
              0,
              "#0d0887"
             ],
             [
              0.1111111111111111,
              "#46039f"
             ],
             [
              0.2222222222222222,
              "#7201a8"
             ],
             [
              0.3333333333333333,
              "#9c179e"
             ],
             [
              0.4444444444444444,
              "#bd3786"
             ],
             [
              0.5555555555555556,
              "#d8576b"
             ],
             [
              0.6666666666666666,
              "#ed7953"
             ],
             [
              0.7777777777777778,
              "#fb9f3a"
             ],
             [
              0.8888888888888888,
              "#fdca26"
             ],
             [
              1,
              "#f0f921"
             ]
            ],
            "type": "histogram2d"
           }
          ],
          "histogram2dcontour": [
           {
            "colorbar": {
             "outlinewidth": 0,
             "ticks": ""
            },
            "colorscale": [
             [
              0,
              "#0d0887"
             ],
             [
              0.1111111111111111,
              "#46039f"
             ],
             [
              0.2222222222222222,
              "#7201a8"
             ],
             [
              0.3333333333333333,
              "#9c179e"
             ],
             [
              0.4444444444444444,
              "#bd3786"
             ],
             [
              0.5555555555555556,
              "#d8576b"
             ],
             [
              0.6666666666666666,
              "#ed7953"
             ],
             [
              0.7777777777777778,
              "#fb9f3a"
             ],
             [
              0.8888888888888888,
              "#fdca26"
             ],
             [
              1,
              "#f0f921"
             ]
            ],
            "type": "histogram2dcontour"
           }
          ],
          "mesh3d": [
           {
            "colorbar": {
             "outlinewidth": 0,
             "ticks": ""
            },
            "type": "mesh3d"
           }
          ],
          "parcoords": [
           {
            "line": {
             "colorbar": {
              "outlinewidth": 0,
              "ticks": ""
             }
            },
            "type": "parcoords"
           }
          ],
          "pie": [
           {
            "automargin": true,
            "type": "pie"
           }
          ],
          "scatter": [
           {
            "marker": {
             "colorbar": {
              "outlinewidth": 0,
              "ticks": ""
             }
            },
            "type": "scatter"
           }
          ],
          "scatter3d": [
           {
            "line": {
             "colorbar": {
              "outlinewidth": 0,
              "ticks": ""
             }
            },
            "marker": {
             "colorbar": {
              "outlinewidth": 0,
              "ticks": ""
             }
            },
            "type": "scatter3d"
           }
          ],
          "scattercarpet": [
           {
            "marker": {
             "colorbar": {
              "outlinewidth": 0,
              "ticks": ""
             }
            },
            "type": "scattercarpet"
           }
          ],
          "scattergeo": [
           {
            "marker": {
             "colorbar": {
              "outlinewidth": 0,
              "ticks": ""
             }
            },
            "type": "scattergeo"
           }
          ],
          "scattergl": [
           {
            "marker": {
             "colorbar": {
              "outlinewidth": 0,
              "ticks": ""
             }
            },
            "type": "scattergl"
           }
          ],
          "scattermapbox": [
           {
            "marker": {
             "colorbar": {
              "outlinewidth": 0,
              "ticks": ""
             }
            },
            "type": "scattermapbox"
           }
          ],
          "scatterpolar": [
           {
            "marker": {
             "colorbar": {
              "outlinewidth": 0,
              "ticks": ""
             }
            },
            "type": "scatterpolar"
           }
          ],
          "scatterpolargl": [
           {
            "marker": {
             "colorbar": {
              "outlinewidth": 0,
              "ticks": ""
             }
            },
            "type": "scatterpolargl"
           }
          ],
          "scatterternary": [
           {
            "marker": {
             "colorbar": {
              "outlinewidth": 0,
              "ticks": ""
             }
            },
            "type": "scatterternary"
           }
          ],
          "surface": [
           {
            "colorbar": {
             "outlinewidth": 0,
             "ticks": ""
            },
            "colorscale": [
             [
              0,
              "#0d0887"
             ],
             [
              0.1111111111111111,
              "#46039f"
             ],
             [
              0.2222222222222222,
              "#7201a8"
             ],
             [
              0.3333333333333333,
              "#9c179e"
             ],
             [
              0.4444444444444444,
              "#bd3786"
             ],
             [
              0.5555555555555556,
              "#d8576b"
             ],
             [
              0.6666666666666666,
              "#ed7953"
             ],
             [
              0.7777777777777778,
              "#fb9f3a"
             ],
             [
              0.8888888888888888,
              "#fdca26"
             ],
             [
              1,
              "#f0f921"
             ]
            ],
            "type": "surface"
           }
          ],
          "table": [
           {
            "cells": {
             "fill": {
              "color": "#EBF0F8"
             },
             "line": {
              "color": "white"
             }
            },
            "header": {
             "fill": {
              "color": "#C8D4E3"
             },
             "line": {
              "color": "white"
             }
            },
            "type": "table"
           }
          ]
         },
         "layout": {
          "annotationdefaults": {
           "arrowcolor": "#2a3f5f",
           "arrowhead": 0,
           "arrowwidth": 1
          },
          "coloraxis": {
           "colorbar": {
            "outlinewidth": 0,
            "ticks": ""
           }
          },
          "colorscale": {
           "diverging": [
            [
             0,
             "#8e0152"
            ],
            [
             0.1,
             "#c51b7d"
            ],
            [
             0.2,
             "#de77ae"
            ],
            [
             0.3,
             "#f1b6da"
            ],
            [
             0.4,
             "#fde0ef"
            ],
            [
             0.5,
             "#f7f7f7"
            ],
            [
             0.6,
             "#e6f5d0"
            ],
            [
             0.7,
             "#b8e186"
            ],
            [
             0.8,
             "#7fbc41"
            ],
            [
             0.9,
             "#4d9221"
            ],
            [
             1,
             "#276419"
            ]
           ],
           "sequential": [
            [
             0,
             "#0d0887"
            ],
            [
             0.1111111111111111,
             "#46039f"
            ],
            [
             0.2222222222222222,
             "#7201a8"
            ],
            [
             0.3333333333333333,
             "#9c179e"
            ],
            [
             0.4444444444444444,
             "#bd3786"
            ],
            [
             0.5555555555555556,
             "#d8576b"
            ],
            [
             0.6666666666666666,
             "#ed7953"
            ],
            [
             0.7777777777777778,
             "#fb9f3a"
            ],
            [
             0.8888888888888888,
             "#fdca26"
            ],
            [
             1,
             "#f0f921"
            ]
           ],
           "sequentialminus": [
            [
             0,
             "#0d0887"
            ],
            [
             0.1111111111111111,
             "#46039f"
            ],
            [
             0.2222222222222222,
             "#7201a8"
            ],
            [
             0.3333333333333333,
             "#9c179e"
            ],
            [
             0.4444444444444444,
             "#bd3786"
            ],
            [
             0.5555555555555556,
             "#d8576b"
            ],
            [
             0.6666666666666666,
             "#ed7953"
            ],
            [
             0.7777777777777778,
             "#fb9f3a"
            ],
            [
             0.8888888888888888,
             "#fdca26"
            ],
            [
             1,
             "#f0f921"
            ]
           ]
          },
          "colorway": [
           "#636efa",
           "#EF553B",
           "#00cc96",
           "#ab63fa",
           "#FFA15A",
           "#19d3f3",
           "#FF6692",
           "#B6E880",
           "#FF97FF",
           "#FECB52"
          ],
          "font": {
           "color": "#2a3f5f"
          },
          "geo": {
           "bgcolor": "white",
           "lakecolor": "white",
           "landcolor": "#E5ECF6",
           "showlakes": true,
           "showland": true,
           "subunitcolor": "white"
          },
          "hoverlabel": {
           "align": "left"
          },
          "hovermode": "closest",
          "mapbox": {
           "style": "light"
          },
          "paper_bgcolor": "white",
          "plot_bgcolor": "#E5ECF6",
          "polar": {
           "angularaxis": {
            "gridcolor": "white",
            "linecolor": "white",
            "ticks": ""
           },
           "bgcolor": "#E5ECF6",
           "radialaxis": {
            "gridcolor": "white",
            "linecolor": "white",
            "ticks": ""
           }
          },
          "scene": {
           "xaxis": {
            "backgroundcolor": "#E5ECF6",
            "gridcolor": "white",
            "gridwidth": 2,
            "linecolor": "white",
            "showbackground": true,
            "ticks": "",
            "zerolinecolor": "white"
           },
           "yaxis": {
            "backgroundcolor": "#E5ECF6",
            "gridcolor": "white",
            "gridwidth": 2,
            "linecolor": "white",
            "showbackground": true,
            "ticks": "",
            "zerolinecolor": "white"
           },
           "zaxis": {
            "backgroundcolor": "#E5ECF6",
            "gridcolor": "white",
            "gridwidth": 2,
            "linecolor": "white",
            "showbackground": true,
            "ticks": "",
            "zerolinecolor": "white"
           }
          },
          "shapedefaults": {
           "line": {
            "color": "#2a3f5f"
           }
          },
          "ternary": {
           "aaxis": {
            "gridcolor": "white",
            "linecolor": "white",
            "ticks": ""
           },
           "baxis": {
            "gridcolor": "white",
            "linecolor": "white",
            "ticks": ""
           },
           "bgcolor": "#E5ECF6",
           "caxis": {
            "gridcolor": "white",
            "linecolor": "white",
            "ticks": ""
           }
          },
          "title": {
           "x": 0.05
          },
          "xaxis": {
           "automargin": true,
           "gridcolor": "white",
           "linecolor": "white",
           "ticks": "",
           "title": {
            "standoff": 15
           },
           "zerolinecolor": "white",
           "zerolinewidth": 2
          },
          "yaxis": {
           "automargin": true,
           "gridcolor": "white",
           "linecolor": "white",
           "ticks": "",
           "title": {
            "standoff": 15
           },
           "zerolinecolor": "white",
           "zerolinewidth": 2
          }
         }
        },
        "title": {
         "text": "Infected"
        },
        "yaxis": {
         "type": "log"
        }
       }
      }
     },
     "metadata": {}
    }
   ],
   "source": [
    "plot([\n",
    "        (saved_stats.get_metric('infected'), 'Nothing done'),\n",
    "        (stats_isolation.get_metric('infected'), 'Social distancing'),\n",
    "    ], 'Infected', True, stop=90)\n",
    ""
   ]
  }
 ],
 "metadata": {
  "kernelspec": {
   "display_name": "Python 3.7.2 64-bit ('venv': venv)",
   "language": "python",
   "name": "python37264bitvenvvenv4094abe7fab0497ea50d20c503a67737"
  },
  "language_info": {
   "codemirror_mode": {
    "name": "ipython",
    "version": 3
   },
   "file_extension": ".py",
   "mimetype": "text/x-python",
   "name": "python",
   "nbconvert_exporter": "python",
   "pygments_lexer": "ipython3",
   "version": "3.7.2-final"
  }
 },
 "nbformat": 4,
 "nbformat_minor": 4
}