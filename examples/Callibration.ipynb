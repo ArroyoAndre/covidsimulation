{
 "cells": [
  {
   "cell_type": "code",
   "execution_count": 3,
   "metadata": {},
   "outputs": [
    {
     "name": "stdout",
     "output_type": "stream",
     "text": [
      "/bin/sh: ./setup.sh: No such file or directory\r\n"
     ]
    }
   ],
   "source": [
    "!cd .. & ./setup.sh"
   ]
  },
  {
   "cell_type": "markdown",
   "metadata": {},
   "source": [
    "# Finding the best set of parameters"
   ]
  },
  {
   "cell_type": "code",
   "execution_count": 4,
   "metadata": {},
   "outputs": [
    {
     "data": {
      "text/plain": [
       "array([[ 8000,    50],\n",
       "       [ 9000,    50],\n",
       "       [10000,    50],\n",
       "       [11000,    50],\n",
       "       [12000,    50],\n",
       "       [ 8000,    12],\n",
       "       [ 9000,    12],\n",
       "       [10000,    12]])"
      ]
     },
     "execution_count": 4,
     "metadata": {},
     "output_type": "execute_result"
    }
   ],
   "source": [
    "from covidsimulation.regions.br_saopaulo import params as br_saopaulo_params, score_fn as br_saopaulo_score_fn, \\\n",
    "                                                sp_official_deaths\n",
    "from covidsimulation.callibrate import callibrate_parameters\n",
    "from covidsimulation import Parameters\n",
    "from tqdm.notebook import tqdm\n",
    "\n",
    "\n",
    "max_simulation_day = max(d[0] for d in sp_official_deaths) + 1\n",
    "\n",
    "\n",
    "def set_d0_infections(p: Parameters, v):\n",
    "    p.d0_infections = v\n",
    "\n",
    "\n",
    "def set_population_1_seed_infections(p: Parameters, v):\n",
    "    p.population_segments[1].seed_infections = v\n",
    "\n",
    "\n",
    "callibrate_parameters(\n",
    "    [\n",
    "        (set_d0_infections, list(range(8000, 13000, 1000))),\n",
    "        (set_population_1_seed_infections, (4, 50, 12)),\n",
    "    ],\n",
    "    br_saopaulo_score_fn,\n",
    "    br_saopaulo_params,\n",
    "    duration=max_simulation_day,\n",
    "    simulation_size=20000,  # Recommended: simulation_size >= 200000\n",
    "    n=4,  # Recommended: n > 8\n",
    "    # tqdm=tqdm,  # uncomment to display progress\n",
    "    )"
   ]
  },
  {
   "cell_type": "markdown",
   "metadata": {},
   "source": [
    "# Showing the simulations that best fit history"
   ]
  },
  {
   "cell_type": "code",
   "execution_count": 8,
   "metadata": {},
   "outputs": [
    {
     "data": {
      "application/vnd.jupyter.widget-view+json": {
       "model_id": "a81d332a405a455c8ad1236e81d2f092",
       "version_major": 2,
       "version_minor": 0
      },
      "text/plain": [
       "HBox(children=(FloatProgress(value=0.0, description='Population', max=8000000.0, style=ProgressStyle(descripti…"
      ]
     },
     "metadata": {},
     "output_type": "display_data"
    },
    {
     "data": {
      "application/vnd.jupyter.widget-view+json": {
       "model_id": "9a9f8602c3f84180b8091d0979336661",
       "version_major": 2,
       "version_minor": 0
      },
      "text/plain": [
       "HBox(children=(FloatProgress(value=0.0, description='Simulation', max=2400.0, style=ProgressStyle(description_…"
      ]
     },
     "metadata": {},
     "output_type": "display_data"
    },
    {
     "name": "stdout",
     "output_type": "stream",
     "text": [
      "\n",
      "\n"
     ]
    }
   ],
   "source": [
    "from covidsimulation import run_simulations, plot\n",
    "\n",
    "stats = run_simulations(\n",
    "    sim_params=br_saopaulo_params, \n",
    "    simulate_capacity=True, \n",
    "    duration=60,\n",
    "    number_of_simulations=40, \n",
    "    simulation_size=200000,\n",
    "    tqdm=tqdm,\n",
    "    )\n"
   ]
  },
  {
   "cell_type": "code",
   "execution_count": 9,
   "metadata": {},
   "outputs": [
    {
     "data": {
      "application/vnd.jupyter.widget-view+json": {
       "model_id": "0968c2e961ce444390760b2e5091b355",
       "version_major": 2,
       "version_minor": 0
      },
      "text/plain": [
       "FigureWidget({\n",
       "    'data': [{'fill': 'toself',\n",
       "              'fillcolor': 'rgba(0,0,255,0.25)',\n",
       "              …"
      ]
     },
     "metadata": {},
     "output_type": "display_data"
    }
   ],
   "source": [
    "# Before filtering best simulations\n",
    "\n",
    "fig = plot([\n",
    "        (stats.get_metric('deaths'), 'mortes'),\n",
    "        (stats.get_metric('confirmed_deaths'), 'confirmadas'),\n",
    "    ], 'Mortes - Real x Confirmadas - Cenário atual provável', False, stop=90)\n",
    "\n",
    "fig  # Or fig.show() if just fig doesn't work"
   ]
  },
  {
   "cell_type": "code",
   "execution_count": 10,
   "metadata": {},
   "outputs": [
    {
     "data": {
      "application/vnd.jupyter.widget-view+json": {
       "model_id": "32e5913364744d739db8ac3f5ab0b4f7",
       "version_major": 2,
       "version_minor": 0
      },
      "text/plain": [
       "FigureWidget({\n",
       "    'data': [{'fill': 'toself',\n",
       "              'fillcolor': 'rgba(0,0,255,0.25)',\n",
       "              …"
      ]
     },
     "metadata": {},
     "output_type": "display_data"
    }
   ],
   "source": [
    "# Filtering best simulations\n",
    "stats.filter_best_scores(br_saopaulo_score_fn, 0.25)\n",
    "\n",
    "fig = plot([\n",
    "        (stats.get_metric('deaths'), 'mortes'),\n",
    "        (stats.get_metric('confirmed_deaths'), 'confirmadas'),\n",
    "    ], 'Mortes - Real x Confirmadas - Cenário atual provável', False, stop=90)\n",
    "\n",
    "fig   # Or fig.show() if just fig doesn't work"
   ]
  },
  {
   "cell_type": "code",
   "execution_count": null,
   "metadata": {},
   "outputs": [],
   "source": []
  }
 ],
 "metadata": {
  "kernelspec": {
   "display_name": "Python 3.7.2 64-bit ('venv')",
   "language": "python",
   "name": "python37264bitvenv210d5aeff0b04aaca13bce6dee08a38b"
  },
  "language_info": {
   "codemirror_mode": {
    "name": "ipython",
    "version": 3
   },
   "file_extension": ".py",
   "mimetype": "text/x-python",
   "name": "python",
   "nbconvert_exporter": "python",
   "pygments_lexer": "ipython3",
   "version": "3.7.2"
  }
 },
 "nbformat": 4,
 "nbformat_minor": 4
}
