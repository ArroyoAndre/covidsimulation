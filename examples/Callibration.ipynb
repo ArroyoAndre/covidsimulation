{
 "cells": [
  {
   "cell_type": "code",
   "execution_count": null,
   "metadata": {},
   "outputs": [],
   "source": [
    "! ./setup.sh"
   ]
  },
  {
   "cell_type": "code",
   "execution_count": null,
   "metadata": {},
   "outputs": [],
   "source": [
    "%matplotlib inline"
   ]
  },
  {
   "cell_type": "code",
   "execution_count": null,
   "metadata": {},
   "outputs": [],
   "source": [
    "from covidsimulation.regions.br_saopaulo import params as br_saopaulo_params, sp_official_deaths\n",
    "from covidsimulation.callibrate import callibrate_parameters, score_reported_deaths\n",
    "from covidsimulation import Parameters\n",
    "from functools import partial\n",
    "from tqdm.notebook import tqdm\n",
    "\n",
    "\n",
    "score_fn = partial(score_reported_deaths, expected_deaths=sp_official_deaths)\n",
    "\n",
    "max_simulation_day = max(d[0] for d in sp_official_deaths) + 1\n",
    "\n",
    "\n",
    "def set_d0_infections(p: Parameters, v):\n",
    "    p.d0_infections = v\n",
    "\n",
    "\n",
    "def set_population_1_seed_infections(p: Parameters, v):\n",
    "    p.population_segments[1].seed_infections = v\n",
    "\n",
    "\n",
    "callibrate_parameters(\n",
    "    [\n",
    "        (set_d0_infections, list(range(8000, 13000, 1000))),\n",
    "        (set_population_1_seed_infections, (8, 10, 12)),\n",
    "    ],\n",
    "    score_fn,\n",
    "    br_saopaulo_params,\n",
    "    duration=max_simulation_day,\n",
    "    simulation_size=1000,  # Recommended: simulation_size >= 200000\n",
    "    n=1,  # Recommended: n > 8\n",
    "    # tqdm=tqdm,  # uncomment to display progress\n",
    "    )"
   ]
  },
  {
   "cell_type": "code",
   "execution_count": null,
   "metadata": {},
   "outputs": [],
   "source": []
  }
 ],
 "metadata": {
  "kernelspec": {
   "display_name": "Python 3.7.2 64-bit ('venv': venv)",
   "language": "python",
   "name": "python37264bitvenvvenv4094abe7fab0497ea50d20c503a67737"
  },
  "language_info": {
   "codemirror_mode": {
    "name": "ipython",
    "version": 3
   },
   "file_extension": ".py",
   "mimetype": "text/x-python",
   "name": "python",
   "nbconvert_exporter": "python",
   "pygments_lexer": "ipython3",
   "version": "3.7.2-final"
  }
 },
 "nbformat": 4,
 "nbformat_minor": 4
}